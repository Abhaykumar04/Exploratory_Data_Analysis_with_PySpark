{
 "cells": [
  {
   "cell_type": "markdown",
   "metadata": {
    "id": "JWLF3ztnMDzh"
   },
   "source": [
    "## Installing required packages"
   ]
  },
  {
   "cell_type": "code",
   "execution_count": 2,
   "metadata": {},
   "outputs": [
    {
     "name": "stdout",
     "output_type": "stream",
     "text": [
      "3.5.0\n"
     ]
    }
   ],
   "source": [
    "from pyspark.sql import SparkSession\n",
    "from pyspark.sql.functions import *\n",
    "spark = SparkSession.builder.appName('used_cars').getOrCreate()\n",
    "print(spark.version)"
   ]
  },
  {
   "cell_type": "code",
   "execution_count": 3,
   "metadata": {
    "colab": {
     "base_uri": "https://localhost:8080/",
     "height": 222
    },
    "id": "qE7h66XlJsC6",
    "outputId": "62fcb30c-dfcd-45d6-e256-8f791995cafe"
   },
   "outputs": [
    {
     "data": {
      "text/html": [
       "\n",
       "            <div>\n",
       "                <p><b>SparkSession - in-memory</b></p>\n",
       "                \n",
       "        <div>\n",
       "            <p><b>SparkContext</b></p>\n",
       "\n",
       "            <p><a href=\"http://192.168.1.44:4040\">Spark UI</a></p>\n",
       "\n",
       "            <dl>\n",
       "              <dt>Version</dt>\n",
       "                <dd><code>v3.5.0</code></dd>\n",
       "              <dt>Master</dt>\n",
       "                <dd><code>local[*]</code></dd>\n",
       "              <dt>AppName</dt>\n",
       "                <dd><code>dataframe</code></dd>\n",
       "            </dl>\n",
       "        </div>\n",
       "        \n",
       "            </div>\n",
       "        "
      ],
      "text/plain": [
       "<pyspark.sql.session.SparkSession at 0x1202c8d38d0>"
      ]
     },
     "execution_count": 3,
     "metadata": {},
     "output_type": "execute_result"
    }
   ],
   "source": [
    "spark"
   ]
  },
  {
   "cell_type": "markdown",
   "metadata": {
    "id": "vfxgWH2ZMNeN"
   },
   "source": [
    "### Reading csv file in spark"
   ]
  },
  {
   "cell_type": "code",
   "execution_count": 5,
   "metadata": {
    "id": "9VREBfueJvKz"
   },
   "outputs": [],
   "source": [
    "df = spark.read.format('csv').\\\n",
    "option('inferSchema', 'true').\\\n",
    "option('header', 'true').\\\n",
    "option('path', \"D:\\Dataset\\cars dataset.csv\").\\\n",
    "load()"
   ]
  },
  {
   "cell_type": "code",
   "execution_count": 6,
   "metadata": {
    "colab": {
     "base_uri": "https://localhost:8080/"
    },
    "id": "Oz5E0gkkLSmJ",
    "outputId": "f070c950-3086-4d3e-8075-5f4278dd0353"
   },
   "outputs": [
    {
     "name": "stdout",
     "output_type": "stream",
     "text": [
      "+---+----------+-----------------+------+-----------------+----+-------------+--------+--------+-----------------+---------+------------------------+---------------------+-------------+--------------------+\n",
      "|_c0|     brand|            model| color|registration_date|year|price_in_euro|power_kw|power_ps|transmission_type|fuel_type|fuel_consumption_l_100km|fuel_consumption_g_km|mileage_in_km|   offer_description|\n",
      "+---+----------+-----------------+------+-----------------+----+-------------+--------+--------+-----------------+---------+------------------------+---------------------+-------------+--------------------+\n",
      "|  0|alfa-romeo|   Alfa Romeo GTV|   red|          10/1995|1995|         1300|     148|     201|           Manual|   Petrol|           10,9 l/100 km|             260 g/km|     160500.0|           2.0 V6 TB|\n",
      "|  1|alfa-romeo|   Alfa Romeo 164| black|          02/1995|1995|        24900|     191|     260|           Manual|   Petrol|                    null|             - (g/km)|     190000.0| Q4 Allrad, 3.2L GTA|\n",
      "|  2|alfa-romeo|Alfa Romeo Spider| black|          02/1995|1995|         5900|     110|     150|          Unknown|   Petrol|                    null|             - (g/km)|     129000.0|       ALFA ROME 916|\n",
      "|  3|alfa-romeo|Alfa Romeo Spider| black|          07/1995|1995|         4900|     110|     150|           Manual|   Petrol|            9,5 l/100 km|             225 g/km|     189500.0|2.0 16V Twin Spark L|\n",
      "|  4|alfa-romeo|   Alfa Romeo 164|   red|          11/1996|1996|        17950|     132|     179|           Manual|   Petrol|            7,2 l/100 km|             - (g/km)|      96127.0|3.0i Super V6, ab...|\n",
      "|  5|alfa-romeo|Alfa Romeo Spider|   red|          04/1996|1996|         7900|     110|     150|           Manual|   Petrol|            9,5 l/100 km|             225 g/km|      47307.0|  2.0 16V Twin Spark|\n",
      "|  6|alfa-romeo|   Alfa Romeo 145|   red|          12/1996|1996|         3500|     110|     150|           Manual|   Petrol|            8,8 l/100 km|             210 g/km|     230000.0|        Quadrifoglio|\n",
      "|  7|alfa-romeo|   Alfa Romeo 164| black|          07/1996|1996|         5500|     132|     179|           Manual|   Petrol|           13,4 l/100 km|             320 g/km|     168000.0|      (3.0) V6 Super|\n",
      "|  8|alfa-romeo|Alfa Romeo Spider| black|          07/1996|1996|         8990|     141|     192|           Manual|   Petrol|             11 l/100 km|             265 g/km|     168600.0||HU:neu|Klimaanla...|\n",
      "|  9|alfa-romeo|Alfa Romeo Spider| black|          01/1996|1996|         6976|     110|     150|           Manual|   Petrol|            9,2 l/100 km|             220 g/km|      99000.0|2.0 T.Spark L *Kl...|\n",
      "| 10|alfa-romeo|Alfa Romeo Spider|silver|          02/1996|1996|         5499|     141|     192|           Manual|   Petrol|           11,1 l/100 km|             265 g/km|     157000.0|            3.0 V6 L|\n",
      "| 11|alfa-romeo|Alfa Romeo Spider|silver|          10/1996|1996|         8499|     110|     150|           Manual|   Petrol|            9,5 l/100 km|             225 g/km|      15550.0|          2.0 spider|\n",
      "| 12|alfa-romeo|   Alfa Romeo GTV|silver|          04/1996|1996|         2290|     110|     150|           Manual|   Petrol|            9,5 l/100 km|             - (g/km)|     333500.0|GTV 2.0 Twin Spar...|\n",
      "| 13|alfa-romeo|   Alfa Romeo GTV|  grey|          05/1997|1997|        15800|     162|     220|           Manual|   Petrol|           11,7 l/100 km|             125 g/km|     177000.0|          3.0 V6 24v|\n",
      "| 14|alfa-romeo|   Alfa Romeo 155|  grey|          06/1997|1997|         7950|      88|     120|           Manual|   Petrol|            8,4 l/100 km|             - (g/km)|     101726.0|1.6l Twin Spark, ...|\n",
      "| 15|alfa-romeo|   Alfa Romeo GTV|   red|          10/1997|1997|         1300|     148|     201|           Manual|   Petrol|           10,9 l/100 km|             260 g/km|     178000.0|           2.0 V6 TB|\n",
      "| 16|alfa-romeo|   Alfa Romeo GTV|   red|          03/1997|1997|         6900|     110|     150|           Manual|   Petrol|            9,2 l/100 km|             225 g/km|     110313.0|   2.0 16V T.Spark L|\n",
      "| 17|alfa-romeo|   Alfa Romeo GTV|   red|          01/1997|1997|        16900|     162|     220|           Manual|   Petrol|           11,7 l/100 km|             - (g/km)|     174000.0|      GTV 3.0 V6 24V|\n",
      "| 18|alfa-romeo|   Alfa Romeo GTV|   red|          03/1997|1997|         9980|     148|     201|           Manual|   Petrol|                    null|             - (g/km)|     168791.0|2.0 V6 TB - Leder...|\n",
      "| 19|alfa-romeo|   Alfa Romeo 145|   red|          03/1997|1997|        11990|      88|     120|           Manual|   Petrol|            8,2 l/100 km|             - (g/km)|     124963.0|Scuola Sportiva/W...|\n",
      "+---+----------+-----------------+------+-----------------+----+-------------+--------+--------+-----------------+---------+------------------------+---------------------+-------------+--------------------+\n",
      "only showing top 20 rows\n",
      "\n"
     ]
    }
   ],
   "source": [
    "df.show()"
   ]
  },
  {
   "cell_type": "code",
   "execution_count": 7,
   "metadata": {
    "colab": {
     "base_uri": "https://localhost:8080/"
    },
    "id": "DK7pWfp-P4OT",
    "outputId": "8f732b1c-944a-4877-c0a0-42b31fce5260"
   },
   "outputs": [
    {
     "name": "stdout",
     "output_type": "stream",
     "text": [
      "root\n",
      " |-- _c0: integer (nullable = true)\n",
      " |-- brand: string (nullable = true)\n",
      " |-- model: string (nullable = true)\n",
      " |-- color: string (nullable = true)\n",
      " |-- registration_date: string (nullable = true)\n",
      " |-- year: string (nullable = true)\n",
      " |-- price_in_euro: string (nullable = true)\n",
      " |-- power_kw: string (nullable = true)\n",
      " |-- power_ps: string (nullable = true)\n",
      " |-- transmission_type: string (nullable = true)\n",
      " |-- fuel_type: string (nullable = true)\n",
      " |-- fuel_consumption_l_100km: string (nullable = true)\n",
      " |-- fuel_consumption_g_km: string (nullable = true)\n",
      " |-- mileage_in_km: double (nullable = true)\n",
      " |-- offer_description: string (nullable = true)\n",
      "\n"
     ]
    }
   ],
   "source": [
    "df.printSchema()"
   ]
  },
  {
   "cell_type": "code",
   "execution_count": 8,
   "metadata": {
    "colab": {
     "base_uri": "https://localhost:8080/"
    },
    "id": "ynaYDmohLwFU",
    "outputId": "c519108b-4596-4536-e0a0-56cee5371c6c"
   },
   "outputs": [
    {
     "data": {
      "text/plain": [
       "Row(_c0=0, brand='alfa-romeo', model='Alfa Romeo GTV', color='red', registration_date='10/1995', year='1995', price_in_euro='1300', power_kw='148', power_ps='201', transmission_type='Manual', fuel_type='Petrol', fuel_consumption_l_100km='10,9 l/100 km', fuel_consumption_g_km='260 g/km', mileage_in_km=160500.0, offer_description='2.0 V6 TB')"
      ]
     },
     "execution_count": 8,
     "metadata": {},
     "output_type": "execute_result"
    }
   ],
   "source": [
    "# Give information of first 5 row form our data\n",
    "df.head()"
   ]
  },
  {
   "cell_type": "markdown",
   "metadata": {
    "id": "BC5oTA1xRJP6"
   },
   "source": [
    "### Getting name of columns in our data"
   ]
  },
  {
   "cell_type": "code",
   "execution_count": 9,
   "metadata": {
    "colab": {
     "base_uri": "https://localhost:8080/"
    },
    "id": "ifb_5Nb-Q_RC",
    "outputId": "ead3e6d7-cdf5-43e6-edaf-7d1ac7393046"
   },
   "outputs": [
    {
     "data": {
      "text/plain": [
       "['_c0',\n",
       " 'brand',\n",
       " 'model',\n",
       " 'color',\n",
       " 'registration_date',\n",
       " 'year',\n",
       " 'price_in_euro',\n",
       " 'power_kw',\n",
       " 'power_ps',\n",
       " 'transmission_type',\n",
       " 'fuel_type',\n",
       " 'fuel_consumption_l_100km',\n",
       " 'fuel_consumption_g_km',\n",
       " 'mileage_in_km',\n",
       " 'offer_description']"
      ]
     },
     "execution_count": 9,
     "metadata": {},
     "output_type": "execute_result"
    }
   ],
   "source": [
    "df.columns"
   ]
  },
  {
   "cell_type": "markdown",
   "metadata": {
    "id": "hBVAJca_RQlo"
   },
   "source": [
    "### Selecting a particular column from dataframe"
   ]
  },
  {
   "cell_type": "code",
   "execution_count": 10,
   "metadata": {
    "colab": {
     "base_uri": "https://localhost:8080/"
    },
    "id": "zQjYz0pzRyOy",
    "outputId": "1d938377-c02e-4006-cd14-4799acb70ef2"
   },
   "outputs": [
    {
     "data": {
      "text/plain": [
       "pyspark.sql.dataframe.DataFrame"
      ]
     },
     "execution_count": 10,
     "metadata": {},
     "output_type": "execute_result"
    }
   ],
   "source": [
    "type(df.select('price_in_euro'))  # here extracted column is DataFrame"
   ]
  },
  {
   "cell_type": "code",
   "execution_count": 11,
   "metadata": {
    "colab": {
     "base_uri": "https://localhost:8080/"
    },
    "id": "FyjGRUazRDWw",
    "outputId": "b8ae9697-e1ae-4ab9-9a3a-651a7041af14"
   },
   "outputs": [
    {
     "name": "stdout",
     "output_type": "stream",
     "text": [
      "+-------------+\n",
      "|price_in_euro|\n",
      "+-------------+\n",
      "|         1300|\n",
      "|        24900|\n",
      "|         5900|\n",
      "|         4900|\n",
      "|        17950|\n",
      "|         7900|\n",
      "|         3500|\n",
      "|         5500|\n",
      "|         8990|\n",
      "|         6976|\n",
      "|         5499|\n",
      "|         8499|\n",
      "|         2290|\n",
      "|        15800|\n",
      "|         7950|\n",
      "|         1300|\n",
      "|         6900|\n",
      "|        16900|\n",
      "|         9980|\n",
      "|        11990|\n",
      "+-------------+\n",
      "only showing top 20 rows\n",
      "\n"
     ]
    }
   ],
   "source": [
    "df.select('price_in_euro').show()"
   ]
  },
  {
   "cell_type": "markdown",
   "metadata": {
    "id": "oG9IGIcSR6Y-"
   },
   "source": [
    "### Selecting Multiple Columns"
   ]
  },
  {
   "cell_type": "code",
   "execution_count": 12,
   "metadata": {
    "colab": {
     "base_uri": "https://localhost:8080/"
    },
    "id": "rClY7h9IRa3y",
    "outputId": "0d2cb592-d5af-4a55-d653-38d84e1e3d70"
   },
   "outputs": [
    {
     "data": {
      "text/plain": [
       "DataFrame[color: string, price_in_euro: string]"
      ]
     },
     "execution_count": 12,
     "metadata": {},
     "output_type": "execute_result"
    }
   ],
   "source": [
    "df.select(['color','price_in_euro'])"
   ]
  },
  {
   "cell_type": "code",
   "execution_count": 13,
   "metadata": {
    "colab": {
     "base_uri": "https://localhost:8080/"
    },
    "id": "2NdOnOuySOqH",
    "outputId": "a86c5bfa-7f2d-4fb5-c780-22d015d8b6c9"
   },
   "outputs": [
    {
     "name": "stdout",
     "output_type": "stream",
     "text": [
      "+------+-------------+\n",
      "| color|price_in_euro|\n",
      "+------+-------------+\n",
      "|   red|         1300|\n",
      "| black|        24900|\n",
      "| black|         5900|\n",
      "| black|         4900|\n",
      "|   red|        17950|\n",
      "|   red|         7900|\n",
      "|   red|         3500|\n",
      "| black|         5500|\n",
      "| black|         8990|\n",
      "| black|         6976|\n",
      "|silver|         5499|\n",
      "|silver|         8499|\n",
      "|silver|         2290|\n",
      "|  grey|        15800|\n",
      "|  grey|         7950|\n",
      "|   red|         1300|\n",
      "|   red|         6900|\n",
      "|   red|        16900|\n",
      "|   red|         9980|\n",
      "|   red|        11990|\n",
      "+------+-------------+\n",
      "only showing top 20 rows\n",
      "\n"
     ]
    }
   ],
   "source": [
    "df.select(['color','price_in_euro']).show()"
   ]
  },
  {
   "cell_type": "markdown",
   "metadata": {
    "id": "KtBr2sMtSwN1"
   },
   "source": [
    "### Checking Data Types Of Our Data"
   ]
  },
  {
   "cell_type": "code",
   "execution_count": 14,
   "metadata": {
    "colab": {
     "base_uri": "https://localhost:8080/"
    },
    "id": "JKkRyG0mSbJr",
    "outputId": "9e154b4f-966f-4535-bbad-88aa408f899e"
   },
   "outputs": [
    {
     "data": {
      "text/plain": [
       "[('_c0', 'int'),\n",
       " ('brand', 'string'),\n",
       " ('model', 'string'),\n",
       " ('color', 'string'),\n",
       " ('registration_date', 'string'),\n",
       " ('year', 'string'),\n",
       " ('price_in_euro', 'string'),\n",
       " ('power_kw', 'string'),\n",
       " ('power_ps', 'string'),\n",
       " ('transmission_type', 'string'),\n",
       " ('fuel_type', 'string'),\n",
       " ('fuel_consumption_l_100km', 'string'),\n",
       " ('fuel_consumption_g_km', 'string'),\n",
       " ('mileage_in_km', 'double'),\n",
       " ('offer_description', 'string')]"
      ]
     },
     "execution_count": 14,
     "metadata": {},
     "output_type": "execute_result"
    }
   ],
   "source": [
    "df.dtypes"
   ]
  },
  {
   "cell_type": "markdown",
   "metadata": {
    "id": "oaAka2wZTH5J"
   },
   "source": [
    "### Statistical Description Of Data"
   ]
  },
  {
   "cell_type": "code",
   "execution_count": 16,
   "metadata": {
    "colab": {
     "base_uri": "https://localhost:8080/"
    },
    "id": "JeU2SqQJS1vW",
    "outputId": "8c93764a-c5f5-4fce-a6d5-49a5ac463c1d"
   },
   "outputs": [
    {
     "name": "stdout",
     "output_type": "stream",
     "text": [
      "+-------+----------------+----------+--------------+------+------------------+------------------+-----------------+------------------+------------------+-----------------+-----------------+------------------------+---------------------+-----------------+--------------------+\n",
      "|summary|             _c0|     brand|         model| color| registration_date|              year|    price_in_euro|          power_kw|          power_ps|transmission_type|        fuel_type|fuel_consumption_l_100km|fuel_consumption_g_km|    mileage_in_km|   offer_description|\n",
      "+-------+----------------+----------+--------------+------+------------------+------------------+-----------------+------------------+------------------+-----------------+-----------------+------------------------+---------------------+-----------------+--------------------+\n",
      "|  count|          251079|    251079|        251079|250913|            251075|            251079|           251079|            250945|            250950|           251079|           251079|                  224206|               251079|           250927|              251078|\n",
      "|   mean|        125539.0|      null|          null|  null|40442.470588235294|2016.4583711994387|26137.53000239158|126.47737912004658|171.80952608732048|             null|48939.94736842105|      2018.3636363636363|    2016.408163265306|85340.01598472863|   97.14944779116463|\n",
      "| stddev|72480.4084563546|      null|          null|  null|47211.202900875054|  60.0397392420811|36987.95387381505| 75.30176330100367| 99.19220070042799|             null|51287.88293162614|        4.87561998009227|    6.535922520162259|78717.06125940461|  222.65227998181786|\n",
      "|    min|               0|alfa-romeo|    Alfa Romeo| beige|           CARPLAY|           01/2019|       Navigation|          - (g/km)|          - (g/km)|        Automatic|          01/2016|                - (g/km)|             - (g/km)|              0.0| - fast neuwertig...|\n",
      "|    max|          251078|     volvo|smart smart #1|yellow|     apple/android|            Petrol| sofort verfügbar|            Petrol|            Petrol|          Unknown|          Unknown|                  Petrol|              Unknown|        3800000.0|🔥2.0 TDI DSG R-L...|\n",
      "+-------+----------------+----------+--------------+------+------------------+------------------+-----------------+------------------+------------------+-----------------+-----------------+------------------------+---------------------+-----------------+--------------------+\n",
      "\n"
     ]
    }
   ],
   "source": [
    "df.describe().show()"
   ]
  },
  {
   "cell_type": "markdown",
   "metadata": {
    "id": "Jq4NLHcgTXD4"
   },
   "source": [
    "### Adding Column in Pyspark DataFrame"
   ]
  },
  {
   "cell_type": "code",
   "execution_count": 17,
   "metadata": {
    "id": "sdBZ1OZSS-pg"
   },
   "outputs": [],
   "source": [
    "# Using Split function to split data and make new column\n",
    "from pyspark.sql.functions import split\n",
    "df = df.withColumn('registration_year',split(df['registration_date'],'/')[1])"
   ]
  },
  {
   "cell_type": "code",
   "execution_count": 18,
   "metadata": {
    "colab": {
     "base_uri": "https://localhost:8080/"
    },
    "id": "RX8BSZjsT-X8",
    "outputId": "fdced4fa-007e-448d-fc54-e2ec173ef8b7"
   },
   "outputs": [
    {
     "name": "stdout",
     "output_type": "stream",
     "text": [
      "+---+----------+-----------------+------+-----------------+----+-------------+--------+--------+-----------------+---------+------------------------+---------------------+-------------+--------------------+-----------------+\n",
      "|_c0|     brand|            model| color|registration_date|year|price_in_euro|power_kw|power_ps|transmission_type|fuel_type|fuel_consumption_l_100km|fuel_consumption_g_km|mileage_in_km|   offer_description|registration_year|\n",
      "+---+----------+-----------------+------+-----------------+----+-------------+--------+--------+-----------------+---------+------------------------+---------------------+-------------+--------------------+-----------------+\n",
      "|  0|alfa-romeo|   Alfa Romeo GTV|   red|          10/1995|1995|         1300|     148|     201|           Manual|   Petrol|           10,9 l/100 km|             260 g/km|     160500.0|           2.0 V6 TB|             1995|\n",
      "|  1|alfa-romeo|   Alfa Romeo 164| black|          02/1995|1995|        24900|     191|     260|           Manual|   Petrol|                    null|             - (g/km)|     190000.0| Q4 Allrad, 3.2L GTA|             1995|\n",
      "|  2|alfa-romeo|Alfa Romeo Spider| black|          02/1995|1995|         5900|     110|     150|          Unknown|   Petrol|                    null|             - (g/km)|     129000.0|       ALFA ROME 916|             1995|\n",
      "|  3|alfa-romeo|Alfa Romeo Spider| black|          07/1995|1995|         4900|     110|     150|           Manual|   Petrol|            9,5 l/100 km|             225 g/km|     189500.0|2.0 16V Twin Spark L|             1995|\n",
      "|  4|alfa-romeo|   Alfa Romeo 164|   red|          11/1996|1996|        17950|     132|     179|           Manual|   Petrol|            7,2 l/100 km|             - (g/km)|      96127.0|3.0i Super V6, ab...|             1996|\n",
      "|  5|alfa-romeo|Alfa Romeo Spider|   red|          04/1996|1996|         7900|     110|     150|           Manual|   Petrol|            9,5 l/100 km|             225 g/km|      47307.0|  2.0 16V Twin Spark|             1996|\n",
      "|  6|alfa-romeo|   Alfa Romeo 145|   red|          12/1996|1996|         3500|     110|     150|           Manual|   Petrol|            8,8 l/100 km|             210 g/km|     230000.0|        Quadrifoglio|             1996|\n",
      "|  7|alfa-romeo|   Alfa Romeo 164| black|          07/1996|1996|         5500|     132|     179|           Manual|   Petrol|           13,4 l/100 km|             320 g/km|     168000.0|      (3.0) V6 Super|             1996|\n",
      "|  8|alfa-romeo|Alfa Romeo Spider| black|          07/1996|1996|         8990|     141|     192|           Manual|   Petrol|             11 l/100 km|             265 g/km|     168600.0||HU:neu|Klimaanla...|             1996|\n",
      "|  9|alfa-romeo|Alfa Romeo Spider| black|          01/1996|1996|         6976|     110|     150|           Manual|   Petrol|            9,2 l/100 km|             220 g/km|      99000.0|2.0 T.Spark L *Kl...|             1996|\n",
      "| 10|alfa-romeo|Alfa Romeo Spider|silver|          02/1996|1996|         5499|     141|     192|           Manual|   Petrol|           11,1 l/100 km|             265 g/km|     157000.0|            3.0 V6 L|             1996|\n",
      "| 11|alfa-romeo|Alfa Romeo Spider|silver|          10/1996|1996|         8499|     110|     150|           Manual|   Petrol|            9,5 l/100 km|             225 g/km|      15550.0|          2.0 spider|             1996|\n",
      "| 12|alfa-romeo|   Alfa Romeo GTV|silver|          04/1996|1996|         2290|     110|     150|           Manual|   Petrol|            9,5 l/100 km|             - (g/km)|     333500.0|GTV 2.0 Twin Spar...|             1996|\n",
      "| 13|alfa-romeo|   Alfa Romeo GTV|  grey|          05/1997|1997|        15800|     162|     220|           Manual|   Petrol|           11,7 l/100 km|             125 g/km|     177000.0|          3.0 V6 24v|             1997|\n",
      "| 14|alfa-romeo|   Alfa Romeo 155|  grey|          06/1997|1997|         7950|      88|     120|           Manual|   Petrol|            8,4 l/100 km|             - (g/km)|     101726.0|1.6l Twin Spark, ...|             1997|\n",
      "| 15|alfa-romeo|   Alfa Romeo GTV|   red|          10/1997|1997|         1300|     148|     201|           Manual|   Petrol|           10,9 l/100 km|             260 g/km|     178000.0|           2.0 V6 TB|             1997|\n",
      "| 16|alfa-romeo|   Alfa Romeo GTV|   red|          03/1997|1997|         6900|     110|     150|           Manual|   Petrol|            9,2 l/100 km|             225 g/km|     110313.0|   2.0 16V T.Spark L|             1997|\n",
      "| 17|alfa-romeo|   Alfa Romeo GTV|   red|          01/1997|1997|        16900|     162|     220|           Manual|   Petrol|           11,7 l/100 km|             - (g/km)|     174000.0|      GTV 3.0 V6 24V|             1997|\n",
      "| 18|alfa-romeo|   Alfa Romeo GTV|   red|          03/1997|1997|         9980|     148|     201|           Manual|   Petrol|                    null|             - (g/km)|     168791.0|2.0 V6 TB - Leder...|             1997|\n",
      "| 19|alfa-romeo|   Alfa Romeo 145|   red|          03/1997|1997|        11990|      88|     120|           Manual|   Petrol|            8,2 l/100 km|             - (g/km)|     124963.0|Scuola Sportiva/W...|             1997|\n",
      "+---+----------+-----------------+------+-----------------+----+-------------+--------+--------+-----------------+---------+------------------------+---------------------+-------------+--------------------+-----------------+\n",
      "only showing top 20 rows\n",
      "\n"
     ]
    }
   ],
   "source": [
    "df.show()"
   ]
  },
  {
   "cell_type": "markdown",
   "metadata": {
    "id": "hoR2c2m9cRPX"
   },
   "source": [
    "### Droping columns"
   ]
  },
  {
   "cell_type": "code",
   "execution_count": 19,
   "metadata": {
    "id": "RE1BJ9SoWFTw"
   },
   "outputs": [],
   "source": [
    "df = df.drop('registration_year','_c0') # include all columns which you want to drop in brackets"
   ]
  },
  {
   "cell_type": "code",
   "execution_count": 20,
   "metadata": {
    "colab": {
     "base_uri": "https://localhost:8080/"
    },
    "id": "OB0Xbl1Lcefx",
    "outputId": "40a111b8-7845-45d2-d080-60656b2f7612"
   },
   "outputs": [
    {
     "name": "stdout",
     "output_type": "stream",
     "text": [
      "+----------+-----------------+------+-----------------+----+-------------+--------+--------+-----------------+---------+------------------------+---------------------+-------------+--------------------+\n",
      "|     brand|            model| color|registration_date|year|price_in_euro|power_kw|power_ps|transmission_type|fuel_type|fuel_consumption_l_100km|fuel_consumption_g_km|mileage_in_km|   offer_description|\n",
      "+----------+-----------------+------+-----------------+----+-------------+--------+--------+-----------------+---------+------------------------+---------------------+-------------+--------------------+\n",
      "|alfa-romeo|   Alfa Romeo GTV|   red|          10/1995|1995|         1300|     148|     201|           Manual|   Petrol|           10,9 l/100 km|             260 g/km|     160500.0|           2.0 V6 TB|\n",
      "|alfa-romeo|   Alfa Romeo 164| black|          02/1995|1995|        24900|     191|     260|           Manual|   Petrol|                    null|             - (g/km)|     190000.0| Q4 Allrad, 3.2L GTA|\n",
      "|alfa-romeo|Alfa Romeo Spider| black|          02/1995|1995|         5900|     110|     150|          Unknown|   Petrol|                    null|             - (g/km)|     129000.0|       ALFA ROME 916|\n",
      "|alfa-romeo|Alfa Romeo Spider| black|          07/1995|1995|         4900|     110|     150|           Manual|   Petrol|            9,5 l/100 km|             225 g/km|     189500.0|2.0 16V Twin Spark L|\n",
      "|alfa-romeo|   Alfa Romeo 164|   red|          11/1996|1996|        17950|     132|     179|           Manual|   Petrol|            7,2 l/100 km|             - (g/km)|      96127.0|3.0i Super V6, ab...|\n",
      "|alfa-romeo|Alfa Romeo Spider|   red|          04/1996|1996|         7900|     110|     150|           Manual|   Petrol|            9,5 l/100 km|             225 g/km|      47307.0|  2.0 16V Twin Spark|\n",
      "|alfa-romeo|   Alfa Romeo 145|   red|          12/1996|1996|         3500|     110|     150|           Manual|   Petrol|            8,8 l/100 km|             210 g/km|     230000.0|        Quadrifoglio|\n",
      "|alfa-romeo|   Alfa Romeo 164| black|          07/1996|1996|         5500|     132|     179|           Manual|   Petrol|           13,4 l/100 km|             320 g/km|     168000.0|      (3.0) V6 Super|\n",
      "|alfa-romeo|Alfa Romeo Spider| black|          07/1996|1996|         8990|     141|     192|           Manual|   Petrol|             11 l/100 km|             265 g/km|     168600.0||HU:neu|Klimaanla...|\n",
      "|alfa-romeo|Alfa Romeo Spider| black|          01/1996|1996|         6976|     110|     150|           Manual|   Petrol|            9,2 l/100 km|             220 g/km|      99000.0|2.0 T.Spark L *Kl...|\n",
      "|alfa-romeo|Alfa Romeo Spider|silver|          02/1996|1996|         5499|     141|     192|           Manual|   Petrol|           11,1 l/100 km|             265 g/km|     157000.0|            3.0 V6 L|\n",
      "|alfa-romeo|Alfa Romeo Spider|silver|          10/1996|1996|         8499|     110|     150|           Manual|   Petrol|            9,5 l/100 km|             225 g/km|      15550.0|          2.0 spider|\n",
      "|alfa-romeo|   Alfa Romeo GTV|silver|          04/1996|1996|         2290|     110|     150|           Manual|   Petrol|            9,5 l/100 km|             - (g/km)|     333500.0|GTV 2.0 Twin Spar...|\n",
      "|alfa-romeo|   Alfa Romeo GTV|  grey|          05/1997|1997|        15800|     162|     220|           Manual|   Petrol|           11,7 l/100 km|             125 g/km|     177000.0|          3.0 V6 24v|\n",
      "|alfa-romeo|   Alfa Romeo 155|  grey|          06/1997|1997|         7950|      88|     120|           Manual|   Petrol|            8,4 l/100 km|             - (g/km)|     101726.0|1.6l Twin Spark, ...|\n",
      "|alfa-romeo|   Alfa Romeo GTV|   red|          10/1997|1997|         1300|     148|     201|           Manual|   Petrol|           10,9 l/100 km|             260 g/km|     178000.0|           2.0 V6 TB|\n",
      "|alfa-romeo|   Alfa Romeo GTV|   red|          03/1997|1997|         6900|     110|     150|           Manual|   Petrol|            9,2 l/100 km|             225 g/km|     110313.0|   2.0 16V T.Spark L|\n",
      "|alfa-romeo|   Alfa Romeo GTV|   red|          01/1997|1997|        16900|     162|     220|           Manual|   Petrol|           11,7 l/100 km|             - (g/km)|     174000.0|      GTV 3.0 V6 24V|\n",
      "|alfa-romeo|   Alfa Romeo GTV|   red|          03/1997|1997|         9980|     148|     201|           Manual|   Petrol|                    null|             - (g/km)|     168791.0|2.0 V6 TB - Leder...|\n",
      "|alfa-romeo|   Alfa Romeo 145|   red|          03/1997|1997|        11990|      88|     120|           Manual|   Petrol|            8,2 l/100 km|             - (g/km)|     124963.0|Scuola Sportiva/W...|\n",
      "+----------+-----------------+------+-----------------+----+-------------+--------+--------+-----------------+---------+------------------------+---------------------+-------------+--------------------+\n",
      "only showing top 20 rows\n",
      "\n"
     ]
    }
   ],
   "source": [
    "df.show()"
   ]
  },
  {
   "cell_type": "markdown",
   "metadata": {
    "id": "WZupLVjLc_Ao"
   },
   "source": [
    "### Renaming Columns"
   ]
  },
  {
   "cell_type": "code",
   "execution_count": 21,
   "metadata": {
    "id": "KrQ_EsEXcs1u"
   },
   "outputs": [],
   "source": [
    "df = df.withColumnRenamed('year','registration_year') # Give name of column first and the name you want to rename to"
   ]
  },
  {
   "cell_type": "code",
   "execution_count": 22,
   "metadata": {
    "colab": {
     "base_uri": "https://localhost:8080/"
    },
    "id": "xd1YvEvLdNqb",
    "outputId": "27a90fa1-2ae2-4f76-cd16-c06d77040de5"
   },
   "outputs": [
    {
     "name": "stdout",
     "output_type": "stream",
     "text": [
      "+----------+-----------------+------+-----------------+-----------------+-------------+--------+--------+-----------------+---------+------------------------+---------------------+-------------+--------------------+\n",
      "|     brand|            model| color|registration_date|registration_year|price_in_euro|power_kw|power_ps|transmission_type|fuel_type|fuel_consumption_l_100km|fuel_consumption_g_km|mileage_in_km|   offer_description|\n",
      "+----------+-----------------+------+-----------------+-----------------+-------------+--------+--------+-----------------+---------+------------------------+---------------------+-------------+--------------------+\n",
      "|alfa-romeo|   Alfa Romeo GTV|   red|          10/1995|             1995|         1300|     148|     201|           Manual|   Petrol|           10,9 l/100 km|             260 g/km|     160500.0|           2.0 V6 TB|\n",
      "|alfa-romeo|   Alfa Romeo 164| black|          02/1995|             1995|        24900|     191|     260|           Manual|   Petrol|                    null|             - (g/km)|     190000.0| Q4 Allrad, 3.2L GTA|\n",
      "|alfa-romeo|Alfa Romeo Spider| black|          02/1995|             1995|         5900|     110|     150|          Unknown|   Petrol|                    null|             - (g/km)|     129000.0|       ALFA ROME 916|\n",
      "|alfa-romeo|Alfa Romeo Spider| black|          07/1995|             1995|         4900|     110|     150|           Manual|   Petrol|            9,5 l/100 km|             225 g/km|     189500.0|2.0 16V Twin Spark L|\n",
      "|alfa-romeo|   Alfa Romeo 164|   red|          11/1996|             1996|        17950|     132|     179|           Manual|   Petrol|            7,2 l/100 km|             - (g/km)|      96127.0|3.0i Super V6, ab...|\n",
      "|alfa-romeo|Alfa Romeo Spider|   red|          04/1996|             1996|         7900|     110|     150|           Manual|   Petrol|            9,5 l/100 km|             225 g/km|      47307.0|  2.0 16V Twin Spark|\n",
      "|alfa-romeo|   Alfa Romeo 145|   red|          12/1996|             1996|         3500|     110|     150|           Manual|   Petrol|            8,8 l/100 km|             210 g/km|     230000.0|        Quadrifoglio|\n",
      "|alfa-romeo|   Alfa Romeo 164| black|          07/1996|             1996|         5500|     132|     179|           Manual|   Petrol|           13,4 l/100 km|             320 g/km|     168000.0|      (3.0) V6 Super|\n",
      "|alfa-romeo|Alfa Romeo Spider| black|          07/1996|             1996|         8990|     141|     192|           Manual|   Petrol|             11 l/100 km|             265 g/km|     168600.0||HU:neu|Klimaanla...|\n",
      "|alfa-romeo|Alfa Romeo Spider| black|          01/1996|             1996|         6976|     110|     150|           Manual|   Petrol|            9,2 l/100 km|             220 g/km|      99000.0|2.0 T.Spark L *Kl...|\n",
      "|alfa-romeo|Alfa Romeo Spider|silver|          02/1996|             1996|         5499|     141|     192|           Manual|   Petrol|           11,1 l/100 km|             265 g/km|     157000.0|            3.0 V6 L|\n",
      "|alfa-romeo|Alfa Romeo Spider|silver|          10/1996|             1996|         8499|     110|     150|           Manual|   Petrol|            9,5 l/100 km|             225 g/km|      15550.0|          2.0 spider|\n",
      "|alfa-romeo|   Alfa Romeo GTV|silver|          04/1996|             1996|         2290|     110|     150|           Manual|   Petrol|            9,5 l/100 km|             - (g/km)|     333500.0|GTV 2.0 Twin Spar...|\n",
      "|alfa-romeo|   Alfa Romeo GTV|  grey|          05/1997|             1997|        15800|     162|     220|           Manual|   Petrol|           11,7 l/100 km|             125 g/km|     177000.0|          3.0 V6 24v|\n",
      "|alfa-romeo|   Alfa Romeo 155|  grey|          06/1997|             1997|         7950|      88|     120|           Manual|   Petrol|            8,4 l/100 km|             - (g/km)|     101726.0|1.6l Twin Spark, ...|\n",
      "|alfa-romeo|   Alfa Romeo GTV|   red|          10/1997|             1997|         1300|     148|     201|           Manual|   Petrol|           10,9 l/100 km|             260 g/km|     178000.0|           2.0 V6 TB|\n",
      "|alfa-romeo|   Alfa Romeo GTV|   red|          03/1997|             1997|         6900|     110|     150|           Manual|   Petrol|            9,2 l/100 km|             225 g/km|     110313.0|   2.0 16V T.Spark L|\n",
      "|alfa-romeo|   Alfa Romeo GTV|   red|          01/1997|             1997|        16900|     162|     220|           Manual|   Petrol|           11,7 l/100 km|             - (g/km)|     174000.0|      GTV 3.0 V6 24V|\n",
      "|alfa-romeo|   Alfa Romeo GTV|   red|          03/1997|             1997|         9980|     148|     201|           Manual|   Petrol|                    null|             - (g/km)|     168791.0|2.0 V6 TB - Leder...|\n",
      "|alfa-romeo|   Alfa Romeo 145|   red|          03/1997|             1997|        11990|      88|     120|           Manual|   Petrol|            8,2 l/100 km|             - (g/km)|     124963.0|Scuola Sportiva/W...|\n",
      "+----------+-----------------+------+-----------------+-----------------+-------------+--------+--------+-----------------+---------+------------------------+---------------------+-------------+--------------------+\n",
      "only showing top 20 rows\n",
      "\n"
     ]
    }
   ],
   "source": [
    "df.show()"
   ]
  },
  {
   "cell_type": "markdown",
   "metadata": {
    "id": "fOx0SJxEqbxF"
   },
   "source": [
    "### Changing Data Type of Columns"
   ]
  },
  {
   "cell_type": "code",
   "execution_count": 23,
   "metadata": {
    "colab": {
     "base_uri": "https://localhost:8080/"
    },
    "id": "ByRZyGWXrh3i",
    "outputId": "fef14064-b568-43c0-ad2c-3ee915200819"
   },
   "outputs": [
    {
     "name": "stdout",
     "output_type": "stream",
     "text": [
      "+-----------------+-------------+--------+--------+------------------------+---------------------+-------------+\n",
      "|registration_year|price_in_euro|power_kw|power_ps|fuel_consumption_l_100km|fuel_consumption_g_km|mileage_in_km|\n",
      "+-----------------+-------------+--------+--------+------------------------+---------------------+-------------+\n",
      "|             1995|         1300|     148|     201|                    null|                 null|       160500|\n",
      "|             1995|        24900|     191|     260|                    null|                 null|       190000|\n",
      "|             1995|         5900|     110|     150|                    null|                 null|       129000|\n",
      "|             1995|         4900|     110|     150|                    null|                 null|       189500|\n",
      "|             1996|        17950|     132|     179|                    null|                 null|        96127|\n",
      "|             1996|         7900|     110|     150|                    null|                 null|        47307|\n",
      "|             1996|         3500|     110|     150|                    null|                 null|       230000|\n",
      "|             1996|         5500|     132|     179|                    null|                 null|       168000|\n",
      "|             1996|         8990|     141|     192|                    null|                 null|       168600|\n",
      "|             1996|         6976|     110|     150|                    null|                 null|        99000|\n",
      "|             1996|         5499|     141|     192|                    null|                 null|       157000|\n",
      "|             1996|         8499|     110|     150|                    null|                 null|        15550|\n",
      "|             1996|         2290|     110|     150|                    null|                 null|       333500|\n",
      "|             1997|        15800|     162|     220|                    null|                 null|       177000|\n",
      "|             1997|         7950|      88|     120|                    null|                 null|       101726|\n",
      "|             1997|         1300|     148|     201|                    null|                 null|       178000|\n",
      "|             1997|         6900|     110|     150|                    null|                 null|       110313|\n",
      "|             1997|        16900|     162|     220|                    null|                 null|       174000|\n",
      "|             1997|         9980|     148|     201|                    null|                 null|       168791|\n",
      "|             1997|        11990|      88|     120|                    null|                 null|       124963|\n",
      "+-----------------+-------------+--------+--------+------------------------+---------------------+-------------+\n",
      "only showing top 20 rows\n",
      "\n"
     ]
    }
   ],
   "source": [
    "from pyspark.sql.functions import col\n",
    "columns = df.columns\n",
    "val =['brand','model','color','registration_date','transmission_type','fuel_type','offer_description']\n",
    "columns_to_convert = [i for i in columns if i not in val]\n",
    "columns_data_type = ['int','int','int','int','int','int','int']\n",
    "modified_df =df.select([col(column).cast(new_data) for column , new_data in zip(columns_to_convert,columns_data_type)])\n",
    "modified_df.show()"
   ]
  },
  {
   "cell_type": "code",
   "execution_count": 24,
   "metadata": {
    "colab": {
     "base_uri": "https://localhost:8080/"
    },
    "id": "b2UalZQLtkdf",
    "outputId": "17e90fbe-01e1-4d45-a44d-b87170537445"
   },
   "outputs": [
    {
     "name": "stdout",
     "output_type": "stream",
     "text": [
      "root\n",
      " |-- registration_year: integer (nullable = true)\n",
      " |-- price_in_euro: integer (nullable = true)\n",
      " |-- power_kw: integer (nullable = true)\n",
      " |-- power_ps: integer (nullable = true)\n",
      " |-- fuel_consumption_l_100km: integer (nullable = true)\n",
      " |-- fuel_consumption_g_km: integer (nullable = true)\n",
      " |-- mileage_in_km: integer (nullable = true)\n",
      "\n"
     ]
    }
   ],
   "source": [
    "modified_df.printSchema()"
   ]
  },
  {
   "cell_type": "markdown",
   "metadata": {
    "id": "X-cQbsMpiSGi"
   },
   "source": [
    "Droping Columns With NaN Values"
   ]
  },
  {
   "cell_type": "code",
   "execution_count": 25,
   "metadata": {
    "colab": {
     "base_uri": "https://localhost:8080/"
    },
    "id": "AobXX6RYi_KP",
    "outputId": "30ca285d-1f58-4dfd-8573-70953204f499"
   },
   "outputs": [
    {
     "data": {
      "text/plain": [
       "251079"
      ]
     },
     "execution_count": 25,
     "metadata": {},
     "output_type": "execute_result"
    }
   ],
   "source": [
    "df.count() # It gives count of number of records in spark dataframe"
   ]
  },
  {
   "cell_type": "code",
   "execution_count": 26,
   "metadata": {
    "colab": {
     "base_uri": "https://localhost:8080/"
    },
    "id": "F1L3bX50dP-J",
    "outputId": "20facf73-ff9a-4d86-e880-f420faf5abb7"
   },
   "outputs": [
    {
     "data": {
      "text/plain": [
       "251079"
      ]
     },
     "execution_count": 26,
     "metadata": {},
     "output_type": "execute_result"
    }
   ],
   "source": [
    "df.na.drop(how = 'all').count()  # Its droping rows with all columns as NaN values"
   ]
  },
  {
   "cell_type": "code",
   "execution_count": 27,
   "metadata": {
    "colab": {
     "base_uri": "https://localhost:8080/"
    },
    "id": "PjcnhTN6mOmz",
    "outputId": "ed15f75d-db37-4b34-b8e6-4247c7b4da02"
   },
   "outputs": [
    {
     "data": {
      "text/plain": [
       "223836"
      ]
     },
     "execution_count": 27,
     "metadata": {},
     "output_type": "execute_result"
    }
   ],
   "source": [
    "df.na.drop(how ='any').count()  # Its droping rows with any columns with NaN value----> By default its any"
   ]
  },
  {
   "cell_type": "code",
   "execution_count": 28,
   "metadata": {
    "colab": {
     "base_uri": "https://localhost:8080/"
    },
    "id": "s7iRqbLiiwOK",
    "outputId": "e349383f-f44a-4265-af7b-ad20b2e0385b"
   },
   "outputs": [
    {
     "data": {
      "text/plain": [
       "251079"
      ]
     },
     "execution_count": 28,
     "metadata": {},
     "output_type": "execute_result"
    }
   ],
   "source": [
    "df.na.drop(how = 'any' , thresh =5).count() # thresh parameter means that atleast there should be 5 not null values if any record is having less than 5 non null value it will get deleted"
   ]
  },
  {
   "cell_type": "code",
   "execution_count": 29,
   "metadata": {
    "colab": {
     "base_uri": "https://localhost:8080/"
    },
    "id": "pjyS3rsYizzz",
    "outputId": "6ba3ec7d-4930-4878-c894-f550e5337584"
   },
   "outputs": [
    {
     "data": {
      "text/plain": [
       "251078"
      ]
     },
     "execution_count": 29,
     "metadata": {},
     "output_type": "execute_result"
    }
   ],
   "source": [
    "df.na.drop(how = 'any' , subset = ['offer_description']).count()  # it will delete only that row with nan value in offer_description"
   ]
  },
  {
   "cell_type": "markdown",
   "metadata": {
    "id": "Uk0a0dWGoUXa"
   },
   "source": [
    "### Filling Missing Values"
   ]
  },
  {
   "cell_type": "code",
   "execution_count": 30,
   "metadata": {
    "colab": {
     "base_uri": "https://localhost:8080/"
    },
    "id": "oOsrWQ77n5Vn",
    "outputId": "0cb39eeb-2581-467f-a898-fa47733f1a88"
   },
   "outputs": [
    {
     "name": "stdout",
     "output_type": "stream",
     "text": [
      "+----------+-----------------+------+-----------------+-----------------+-------------+--------+--------+-----------------+---------+------------------------+---------------------+-------------+--------------------+\n",
      "|     brand|            model| color|registration_date|registration_year|price_in_euro|power_kw|power_ps|transmission_type|fuel_type|fuel_consumption_l_100km|fuel_consumption_g_km|mileage_in_km|   offer_description|\n",
      "+----------+-----------------+------+-----------------+-----------------+-------------+--------+--------+-----------------+---------+------------------------+---------------------+-------------+--------------------+\n",
      "|alfa-romeo|   Alfa Romeo GTV|   red|          10/1995|             1995|         1300|     148|     201|           Manual|   Petrol|           10,9 l/100 km|             260 g/km|     160500.0|           2.0 V6 TB|\n",
      "|alfa-romeo|   Alfa Romeo 164| black|          02/1995|             1995|        24900|     191|     260|           Manual|   Petrol|          missing_values|             - (g/km)|     190000.0| Q4 Allrad, 3.2L GTA|\n",
      "|alfa-romeo|Alfa Romeo Spider| black|          02/1995|             1995|         5900|     110|     150|          Unknown|   Petrol|          missing_values|             - (g/km)|     129000.0|       ALFA ROME 916|\n",
      "|alfa-romeo|Alfa Romeo Spider| black|          07/1995|             1995|         4900|     110|     150|           Manual|   Petrol|            9,5 l/100 km|             225 g/km|     189500.0|2.0 16V Twin Spark L|\n",
      "|alfa-romeo|   Alfa Romeo 164|   red|          11/1996|             1996|        17950|     132|     179|           Manual|   Petrol|            7,2 l/100 km|             - (g/km)|      96127.0|3.0i Super V6, ab...|\n",
      "|alfa-romeo|Alfa Romeo Spider|   red|          04/1996|             1996|         7900|     110|     150|           Manual|   Petrol|            9,5 l/100 km|             225 g/km|      47307.0|  2.0 16V Twin Spark|\n",
      "|alfa-romeo|   Alfa Romeo 145|   red|          12/1996|             1996|         3500|     110|     150|           Manual|   Petrol|            8,8 l/100 km|             210 g/km|     230000.0|        Quadrifoglio|\n",
      "|alfa-romeo|   Alfa Romeo 164| black|          07/1996|             1996|         5500|     132|     179|           Manual|   Petrol|           13,4 l/100 km|             320 g/km|     168000.0|      (3.0) V6 Super|\n",
      "|alfa-romeo|Alfa Romeo Spider| black|          07/1996|             1996|         8990|     141|     192|           Manual|   Petrol|             11 l/100 km|             265 g/km|     168600.0||HU:neu|Klimaanla...|\n",
      "|alfa-romeo|Alfa Romeo Spider| black|          01/1996|             1996|         6976|     110|     150|           Manual|   Petrol|            9,2 l/100 km|             220 g/km|      99000.0|2.0 T.Spark L *Kl...|\n",
      "|alfa-romeo|Alfa Romeo Spider|silver|          02/1996|             1996|         5499|     141|     192|           Manual|   Petrol|           11,1 l/100 km|             265 g/km|     157000.0|            3.0 V6 L|\n",
      "|alfa-romeo|Alfa Romeo Spider|silver|          10/1996|             1996|         8499|     110|     150|           Manual|   Petrol|            9,5 l/100 km|             225 g/km|      15550.0|          2.0 spider|\n",
      "|alfa-romeo|   Alfa Romeo GTV|silver|          04/1996|             1996|         2290|     110|     150|           Manual|   Petrol|            9,5 l/100 km|             - (g/km)|     333500.0|GTV 2.0 Twin Spar...|\n",
      "|alfa-romeo|   Alfa Romeo GTV|  grey|          05/1997|             1997|        15800|     162|     220|           Manual|   Petrol|           11,7 l/100 km|             125 g/km|     177000.0|          3.0 V6 24v|\n",
      "|alfa-romeo|   Alfa Romeo 155|  grey|          06/1997|             1997|         7950|      88|     120|           Manual|   Petrol|            8,4 l/100 km|             - (g/km)|     101726.0|1.6l Twin Spark, ...|\n",
      "|alfa-romeo|   Alfa Romeo GTV|   red|          10/1997|             1997|         1300|     148|     201|           Manual|   Petrol|           10,9 l/100 km|             260 g/km|     178000.0|           2.0 V6 TB|\n",
      "|alfa-romeo|   Alfa Romeo GTV|   red|          03/1997|             1997|         6900|     110|     150|           Manual|   Petrol|            9,2 l/100 km|             225 g/km|     110313.0|   2.0 16V T.Spark L|\n",
      "|alfa-romeo|   Alfa Romeo GTV|   red|          01/1997|             1997|        16900|     162|     220|           Manual|   Petrol|           11,7 l/100 km|             - (g/km)|     174000.0|      GTV 3.0 V6 24V|\n",
      "|alfa-romeo|   Alfa Romeo GTV|   red|          03/1997|             1997|         9980|     148|     201|           Manual|   Petrol|          missing_values|             - (g/km)|     168791.0|2.0 V6 TB - Leder...|\n",
      "|alfa-romeo|   Alfa Romeo 145|   red|          03/1997|             1997|        11990|      88|     120|           Manual|   Petrol|            8,2 l/100 km|             - (g/km)|     124963.0|Scuola Sportiva/W...|\n",
      "+----------+-----------------+------+-----------------+-----------------+-------------+--------+--------+-----------------+---------+------------------------+---------------------+-------------+--------------------+\n",
      "only showing top 20 rows\n",
      "\n"
     ]
    }
   ],
   "source": [
    "df.na.fill('missing_values').show()  # it will replace all NaN value with 'missing_values'"
   ]
  },
  {
   "cell_type": "code",
   "execution_count": 31,
   "metadata": {
    "colab": {
     "base_uri": "https://localhost:8080/"
    },
    "id": "obM_17EXoto5",
    "outputId": "3a4a3cc3-6829-447c-ae1b-ec6faed89412"
   },
   "outputs": [
    {
     "data": {
      "text/plain": [
       "DataFrame[brand: string, model: string, color: string, registration_date: string, registration_year: string, price_in_euro: string, power_kw: string, power_ps: string, transmission_type: string, fuel_type: string, fuel_consumption_l_100km: string, fuel_consumption_g_km: string, mileage_in_km: double, offer_description: string]"
      ]
     },
     "execution_count": 31,
     "metadata": {},
     "output_type": "execute_result"
    }
   ],
   "source": [
    "df.na.fill('missing_value',['model','color'])  # it will replace all NaN value in model and color column with \"missing_values\""
   ]
  },
  {
   "cell_type": "markdown",
   "metadata": {
    "id": "a63u86-c0LyF"
   },
   "source": [
    "### Imputing Nan values with Mean/Median/Mode"
   ]
  },
  {
   "cell_type": "code",
   "execution_count": 32,
   "metadata": {
    "id": "qqKSqLEZo-6k"
   },
   "outputs": [],
   "source": [
    "from pyspark.ml.feature import Imputer\n",
    "# Make an instance for imputation for required columns\n",
    "imputer = Imputer(\n",
    "    inputCols=modified_df.columns ,\n",
    "    outputCols=[c for c in modified_df.columns]  # replacing columns with columns having mean at place of nan values\n",
    ").setStrategy('mean')"
   ]
  },
  {
   "cell_type": "code",
   "execution_count": 33,
   "metadata": {
    "colab": {
     "base_uri": "https://localhost:8080/"
    },
    "id": "xrrOimawzydO",
    "outputId": "43e86012-ad7d-49b1-b92b-45232aaefaff"
   },
   "outputs": [
    {
     "name": "stdout",
     "output_type": "stream",
     "text": [
      "+-----------------+-------------+--------+--------+------------------------+---------------------+-------------+\n",
      "|registration_year|price_in_euro|power_kw|power_ps|fuel_consumption_l_100km|fuel_consumption_g_km|mileage_in_km|\n",
      "+-----------------+-------------+--------+--------+------------------------+---------------------+-------------+\n",
      "|             1995|         1300|     148|     201|                    2018|                 2016|       160500|\n",
      "|             1995|        24900|     191|     260|                    2018|                 2016|       190000|\n",
      "|             1995|         5900|     110|     150|                    2018|                 2016|       129000|\n",
      "|             1995|         4900|     110|     150|                    2018|                 2016|       189500|\n",
      "|             1996|        17950|     132|     179|                    2018|                 2016|        96127|\n",
      "|             1996|         7900|     110|     150|                    2018|                 2016|        47307|\n",
      "|             1996|         3500|     110|     150|                    2018|                 2016|       230000|\n",
      "|             1996|         5500|     132|     179|                    2018|                 2016|       168000|\n",
      "|             1996|         8990|     141|     192|                    2018|                 2016|       168600|\n",
      "|             1996|         6976|     110|     150|                    2018|                 2016|        99000|\n",
      "|             1996|         5499|     141|     192|                    2018|                 2016|       157000|\n",
      "|             1996|         8499|     110|     150|                    2018|                 2016|        15550|\n",
      "|             1996|         2290|     110|     150|                    2018|                 2016|       333500|\n",
      "|             1997|        15800|     162|     220|                    2018|                 2016|       177000|\n",
      "|             1997|         7950|      88|     120|                    2018|                 2016|       101726|\n",
      "|             1997|         1300|     148|     201|                    2018|                 2016|       178000|\n",
      "|             1997|         6900|     110|     150|                    2018|                 2016|       110313|\n",
      "|             1997|        16900|     162|     220|                    2018|                 2016|       174000|\n",
      "|             1997|         9980|     148|     201|                    2018|                 2016|       168791|\n",
      "|             1997|        11990|      88|     120|                    2018|                 2016|       124963|\n",
      "+-----------------+-------------+--------+--------+------------------------+---------------------+-------------+\n",
      "only showing top 20 rows\n",
      "\n"
     ]
    }
   ],
   "source": [
    "# Fitting and Transforming data frame\n",
    "imputer.fit(modified_df).transform(modified_df).show()"
   ]
  },
  {
   "cell_type": "markdown",
   "metadata": {
    "id": "diz_m4gYAU-N"
   },
   "source": [
    "**Using Filters**\n"
   ]
  },
  {
   "cell_type": "markdown",
   "metadata": {
    "id": "aBk5kek_FS4c"
   },
   "source": [
    "Using Single Filter Condition"
   ]
  },
  {
   "cell_type": "code",
   "execution_count": 34,
   "metadata": {
    "colab": {
     "base_uri": "https://localhost:8080/"
    },
    "id": "Q3TqEtjFBMnn",
    "outputId": "2d71377d-b1db-4724-a152-5db0f65c37a7"
   },
   "outputs": [
    {
     "data": {
      "text/plain": [
       "251079"
      ]
     },
     "execution_count": 34,
     "metadata": {},
     "output_type": "execute_result"
    }
   ],
   "source": [
    "df.count()"
   ]
  },
  {
   "cell_type": "code",
   "execution_count": 35,
   "metadata": {
    "colab": {
     "base_uri": "https://localhost:8080/"
    },
    "id": "hQ6LL_RV0FL9",
    "outputId": "17a72617-a9df-4a2d-93a0-d6f414604a17"
   },
   "outputs": [
    {
     "data": {
      "text/plain": [
       "17"
      ]
     },
     "execution_count": 35,
     "metadata": {},
     "output_type": "execute_result"
    }
   ],
   "source": [
    "# finding records with const more than 1000000 euros\n",
    "# Method - 1\n",
    "df.filter('price_in_euro>=1000000').count()"
   ]
  },
  {
   "cell_type": "code",
   "execution_count": 36,
   "metadata": {
    "colab": {
     "base_uri": "https://localhost:8080/"
    },
    "id": "J2gqDG3KBWHt",
    "outputId": "56f84832-2be6-450a-f5a4-5b544418c0db"
   },
   "outputs": [
    {
     "name": "stdout",
     "output_type": "stream",
     "text": [
      "+-------------+--------------------+------+-----------------+-----------------+-------------+--------+--------+-----------------+---------+------------------------+---------------------+-------------+--------------------+\n",
      "|        brand|               model| color|registration_date|registration_year|price_in_euro|power_kw|power_ps|transmission_type|fuel_type|fuel_consumption_l_100km|fuel_consumption_g_km|mileage_in_km|   offer_description|\n",
      "+-------------+--------------------+------+-----------------+-----------------+-------------+--------+--------+-----------------+---------+------------------------+---------------------+-------------+--------------------+\n",
      "| aston-martin|        Aston Martin| brown|          08/2011|             2011|      2289000|     559|     760|        Automatic|   Petrol|                    null|             - (g/km)|       8900.0|One-77 I Bang Olu...|\n",
      "| aston-martin|Aston Martin Vantage|  blue|          06/2022|             2022|      1170000|     515|     700|        Automatic|   Petrol|           11,4 l/100 km|             298 g/km|         80.0|V12 Speedster 1 o...|\n",
      "| aston-martin|Aston Martin Vantage| green|          04/2022|             2022|      1288000|     515|     700|        Automatic|   Petrol|                    null|             - (g/km)|       1600.0|       V12 Speedster|\n",
      "|         audi|             Audi Q7| black|          11/2011|             2011|      1000000|     180|     245|        Automatic|   Diesel|            7,4 l/100 km|             195 g/km|     143700.0|Q7 3.0 TDI SLine ...|\n",
      "|          bmw|             BMW 550| brown|          07/2018|             2018|      1010101|     294|     400|        Automatic|   Diesel|            6,3 l/100 km|             165 g/km|      87000.0|M550d xDrive Tour...|\n",
      "|      ferrari|         Ferrari 599|   red|          04/2011|             2011|      1150000|     493|     670|        Automatic|   Petrol|           17,5 l/100 km|             411 g/km|       3800.0|GTO * German deli...|\n",
      "|      ferrari|         Ferrari 458|  blue|          07/2015|             2015|      1045800|     445|     605|        Automatic|   Petrol|           13,3 l/100 km|             307 g/km|       2824.0|Speciale Aperta |...|\n",
      "|      ferrari|         Ferrari F12|yellow|          04/2017|             2017|      1290000|     570|     775|        Automatic|   Petrol|                    null|             - (g/km)|      10800.0|*TDF 1of799*Ferra...|\n",
      "|  lamborghini|         Lamborghini|  grey|          08/2018|             2018|      5890500|     566|     770|        Automatic|   Petrol|             16 l/100 km|             370 g/km|         65.0|CENTENARIO ROADST...|\n",
      "|  lamborghini|Lamborghini Avent...| black|          05/2021|             2021|      1000000|     566|     770|        Automatic|   Petrol|                    null|             - (g/km)|       4053.0|SVJ NOVITEC Editi...|\n",
      "|  lamborghini|         Lamborghini| black|          11/2021|             2021|      3250000|     602|     818|        Automatic|   Hybrid|           14,8 l/100 km|             373 g/km|        177.0|                Sian|\n",
      "|mercedes-benz|   Mercedes-Benz SLR|  grey|          01/2007|             2007|      2490000|     478|     650|        Automatic|   Petrol|           14,5 l/100 km|             348 g/km|      15793.0|722 MSO McLaren E...|\n",
      "|      porsche|  Porsche Carrera GT| black|          04/2005|             2005|      1549000|     450|     612|           Manual|   Petrol|                    null|             - (g/km)|      26800.0|1.Hd Deutsches Fa...|\n",
      "|      porsche|  Porsche Carrera GT| black|          04/2006|             2006|      1580000|     450|     612|           Manual|   Petrol|                    null|             - (g/km)|      13460.0|CARRERA GT | NR. ...|\n",
      "|      porsche|         Porsche 918|  grey|          07/2014|             2014|      1290000|     652|     886|        Automatic|   Hybrid|            - (l/100 km)|               0 g/km|      31490.0|Spyder | Weissach...|\n",
      "|      porsche|         Porsche 918| white|          06/2014|             2014|      1990000|     652|     886|        Automatic|   Hybrid|            3,1 l/100 km|              72 g/km|       5125.0|Spyder WEISSACH P...|\n",
      "|      porsche|         Porsche 991| white|          01/2015|             2015|      1350000|     316|     430|        Automatic|   Petrol|            8,9 l/100 km|             207 g/km|      27000.0|Carrera GTS Cabri...|\n",
      "+-------------+--------------------+------+-----------------+-----------------+-------------+--------+--------+-----------------+---------+------------------------+---------------------+-------------+--------------------+\n",
      "\n"
     ]
    }
   ],
   "source": [
    "df.filter('price_in_euro>=1000000').show()"
   ]
  },
  {
   "cell_type": "code",
   "execution_count": 37,
   "metadata": {
    "colab": {
     "base_uri": "https://localhost:8080/"
    },
    "id": "-hqDCacBBxJs",
    "outputId": "90477e06-4899-4365-e429-c1371e1d73e4"
   },
   "outputs": [
    {
     "name": "stdout",
     "output_type": "stream",
     "text": [
      "+-------------+--------+\n",
      "|price_in_euro|power_ps|\n",
      "+-------------+--------+\n",
      "|      2289000|     760|\n",
      "|      1170000|     700|\n",
      "|      1288000|     700|\n",
      "|      1000000|     245|\n",
      "|      1010101|     400|\n",
      "|      1150000|     670|\n",
      "|      1045800|     605|\n",
      "|      1290000|     775|\n",
      "|      5890500|     770|\n",
      "|      1000000|     770|\n",
      "|      3250000|     818|\n",
      "|      2490000|     650|\n",
      "|      1549000|     612|\n",
      "|      1580000|     612|\n",
      "|      1290000|     886|\n",
      "|      1990000|     886|\n",
      "|      1350000|     430|\n",
      "+-------------+--------+\n",
      "\n"
     ]
    }
   ],
   "source": [
    "modified_df.filter('price_in_euro>=1000000').select(['price_in_euro','power_ps']).show()"
   ]
  },
  {
   "cell_type": "code",
   "execution_count": 38,
   "metadata": {
    "colab": {
     "base_uri": "https://localhost:8080/"
    },
    "id": "1Ms4vhreCNFq",
    "outputId": "8b35c6bf-456b-4a27-fad6-1b1d0d601b2e"
   },
   "outputs": [
    {
     "name": "stdout",
     "output_type": "stream",
     "text": [
      "+-------------+--------------------+------+-----------------+-----------------+-------------+--------+--------+-----------------+---------+------------------------+---------------------+-------------+--------------------+\n",
      "|        brand|               model| color|registration_date|registration_year|price_in_euro|power_kw|power_ps|transmission_type|fuel_type|fuel_consumption_l_100km|fuel_consumption_g_km|mileage_in_km|   offer_description|\n",
      "+-------------+--------------------+------+-----------------+-----------------+-------------+--------+--------+-----------------+---------+------------------------+---------------------+-------------+--------------------+\n",
      "| aston-martin|        Aston Martin| brown|          08/2011|             2011|      2289000|     559|     760|        Automatic|   Petrol|                    null|             - (g/km)|       8900.0|One-77 I Bang Olu...|\n",
      "| aston-martin|Aston Martin Vantage|  blue|          06/2022|             2022|      1170000|     515|     700|        Automatic|   Petrol|           11,4 l/100 km|             298 g/km|         80.0|V12 Speedster 1 o...|\n",
      "| aston-martin|Aston Martin Vantage| green|          04/2022|             2022|      1288000|     515|     700|        Automatic|   Petrol|                    null|             - (g/km)|       1600.0|       V12 Speedster|\n",
      "|         audi|             Audi Q7| black|          11/2011|             2011|      1000000|     180|     245|        Automatic|   Diesel|            7,4 l/100 km|             195 g/km|     143700.0|Q7 3.0 TDI SLine ...|\n",
      "|          bmw|             BMW 550| brown|          07/2018|             2018|      1010101|     294|     400|        Automatic|   Diesel|            6,3 l/100 km|             165 g/km|      87000.0|M550d xDrive Tour...|\n",
      "|      ferrari|         Ferrari 599|   red|          04/2011|             2011|      1150000|     493|     670|        Automatic|   Petrol|           17,5 l/100 km|             411 g/km|       3800.0|GTO * German deli...|\n",
      "|      ferrari|         Ferrari 458|  blue|          07/2015|             2015|      1045800|     445|     605|        Automatic|   Petrol|           13,3 l/100 km|             307 g/km|       2824.0|Speciale Aperta |...|\n",
      "|      ferrari|         Ferrari F12|yellow|          04/2017|             2017|      1290000|     570|     775|        Automatic|   Petrol|                    null|             - (g/km)|      10800.0|*TDF 1of799*Ferra...|\n",
      "|  lamborghini|         Lamborghini|  grey|          08/2018|             2018|      5890500|     566|     770|        Automatic|   Petrol|             16 l/100 km|             370 g/km|         65.0|CENTENARIO ROADST...|\n",
      "|  lamborghini|Lamborghini Avent...| black|          05/2021|             2021|      1000000|     566|     770|        Automatic|   Petrol|                    null|             - (g/km)|       4053.0|SVJ NOVITEC Editi...|\n",
      "|  lamborghini|         Lamborghini| black|          11/2021|             2021|      3250000|     602|     818|        Automatic|   Hybrid|           14,8 l/100 km|             373 g/km|        177.0|                Sian|\n",
      "|mercedes-benz|   Mercedes-Benz SLR|  grey|          01/2007|             2007|      2490000|     478|     650|        Automatic|   Petrol|           14,5 l/100 km|             348 g/km|      15793.0|722 MSO McLaren E...|\n",
      "|      porsche|  Porsche Carrera GT| black|          04/2005|             2005|      1549000|     450|     612|           Manual|   Petrol|                    null|             - (g/km)|      26800.0|1.Hd Deutsches Fa...|\n",
      "|      porsche|  Porsche Carrera GT| black|          04/2006|             2006|      1580000|     450|     612|           Manual|   Petrol|                    null|             - (g/km)|      13460.0|CARRERA GT | NR. ...|\n",
      "|      porsche|         Porsche 918|  grey|          07/2014|             2014|      1290000|     652|     886|        Automatic|   Hybrid|            - (l/100 km)|               0 g/km|      31490.0|Spyder | Weissach...|\n",
      "|      porsche|         Porsche 918| white|          06/2014|             2014|      1990000|     652|     886|        Automatic|   Hybrid|            3,1 l/100 km|              72 g/km|       5125.0|Spyder WEISSACH P...|\n",
      "|      porsche|         Porsche 991| white|          01/2015|             2015|      1350000|     316|     430|        Automatic|   Petrol|            8,9 l/100 km|             207 g/km|      27000.0|Carrera GTS Cabri...|\n",
      "+-------------+--------------------+------+-----------------+-----------------+-------------+--------+--------+-----------------+---------+------------------------+---------------------+-------------+--------------------+\n",
      "\n"
     ]
    }
   ],
   "source": [
    "# Method -2\n",
    "df.filter(df['price_in_euro']>=1000000).show() # you can apply filter condition on string without explictly conveting them to integers"
   ]
  },
  {
   "cell_type": "code",
   "execution_count": 39,
   "metadata": {
    "colab": {
     "base_uri": "https://localhost:8080/"
    },
    "id": "z70EA0OrF0qJ",
    "outputId": "11ca3597-7464-4acf-d009-c6f746fba468"
   },
   "outputs": [
    {
     "name": "stdout",
     "output_type": "stream",
     "text": [
      "+----------+--------------+------+-----------------+-----------------+-------------+--------+--------+-----------------+---------+------------------------+---------------------+-------------+--------------------+\n",
      "|     brand|         model| color|registration_date|registration_year|price_in_euro|power_kw|power_ps|transmission_type|fuel_type|fuel_consumption_l_100km|fuel_consumption_g_km|mileage_in_km|   offer_description|\n",
      "+----------+--------------+------+-----------------+-----------------+-------------+--------+--------+-----------------+---------+------------------------+---------------------+-------------+--------------------+\n",
      "|alfa-romeo|Alfa Romeo 147| black|          12/2001|             2001|          450|      85|     116|           Manual|   Diesel|            5,8 l/100 km|             - (g/km)|     262176.0|Alfa Romeo 147 1....|\n",
      "|alfa-romeo|Alfa Romeo 156|  blue|          12/2002|             2002|         2998|     110|     150|           Manual|   Diesel|            6,7 l/100 km|             175 g/km|     259000.0|2.4 JTD Berlina J...|\n",
      "|alfa-romeo|Alfa Romeo 156| black|          03/2002|             2002|         1490|     123|     167|           Manual|   Diesel|                    null|             - (g/km)|     148648.0|             2.4 JTD|\n",
      "|alfa-romeo|Alfa Romeo 156|  grey|          02/2003|             2003|         1250|     110|     150|           Manual|   Diesel|            6,7 l/100 km|             - (g/km)|     232800.0|156 Sportwagon 2....|\n",
      "|alfa-romeo|Alfa Romeo 166| black|          03/2004|             2004|         1499|     110|     150|           Manual|   Diesel|            7,5 l/100 km|             199 g/km|     205000.0|2.4 Leder, Klima,...|\n",
      "|alfa-romeo| Alfa Romeo GT| black|          07/2004|             2004|         1700|     110|     150|           Manual|   Diesel|            6,2 l/100 km|             - (g/km)|     418000.0|1.9 JTD M-Jet Pro...|\n",
      "|alfa-romeo|Alfa Romeo 156| black|          11/2004|             2004|         1950|      85|     116|           Manual|   Diesel|              6 l/100 km|             160 g/km|     196000.0|Sportwagon 1.9 JT...|\n",
      "|alfa-romeo|Alfa Romeo 159|   red|          07/2005|             2005|         6200|     147|     200|          Unknown|   Diesel|            6,8 l/100 km|             - (g/km)|     191027.0|*Leder*DESIGN GIU...|\n",
      "|alfa-romeo| Alfa Romeo GT| black|          09/2005|             2005|         1500|     110|     150|           Manual|   Diesel|            6,2 l/100 km|             165 g/km|     280000.0|1.9 JTD M-Jet Dis...|\n",
      "|alfa-romeo|Alfa Romeo 166| black|          01/2005|             2005|         5990|     129|     175|           Manual|   Diesel|            7,5 l/100 km|             199 g/km|     223000.0|2.4 JTD 20V Disti...|\n",
      "|alfa-romeo| Alfa Romeo GT| black|          09/2005|             2005|         1200|     110|     150|           Manual|   Diesel|            6,2 l/100 km|             165 g/km|     335000.0|1.9 JTD M-Jet Dis...|\n",
      "|alfa-romeo| Alfa Romeo GT| black|          01/2005|             2005|         5990|     110|     150|           Manual|   Diesel|                    null|             - (g/km)|     198273.0|1.9 JTD 16V M-Jet...|\n",
      "|alfa-romeo|Alfa Romeo 159|silver|          09/2005|             2005|         1500|     110|     150|           Manual|   Diesel|              6 l/100 km|             159 g/km|     163843.0|1.9 JTDM 16V Prog...|\n",
      "|alfa-romeo|    Alfa Romeo|  blue|          08/2006|             2006|         2980|     110|     150|           Manual|   Diesel|            6,1 l/100 km|             162 g/km|     284048.0|Distinctive+NAVI+...|\n",
      "|alfa-romeo|Alfa Romeo 159|  blue|          04/2006|             2006|         1950|      88|     120|           Manual|   Diesel|            5,9 l/100 km|             157 g/km|     277548.0|1.9 JTDM 8V DPF D...|\n",
      "|alfa-romeo|Alfa Romeo 159|  grey|          09/2006|             2006|         3800|     147|     200|        Automatic|   Diesel|            8,1 l/100 km|             215 g/km|     210000.0|Sportwagon 2.4 JT...|\n",
      "|alfa-romeo|Alfa Romeo 159|  grey|          09/2006|             2006|         3800|     147|     200|        Automatic|   Diesel|            8,1 l/100 km|             215 g/km|     210000.0|Sportwagon 2.4 JT...|\n",
      "|alfa-romeo| Alfa Romeo GT|  grey|          05/2006|             2006|         1250|     110|     150|           Manual|   Diesel|            6,2 l/100 km|             165 g/km|     278200.0|1.9 JTD M-Jet Dis...|\n",
      "|alfa-romeo|Alfa Romeo 159|  grey|          05/2006|             2006|         1950|     110|     150|           Manual|   Diesel|              6 l/100 km|             159 g/km|     400000.0|1.9 JTDM 16V Dist...|\n",
      "|alfa-romeo|    Alfa Romeo|  grey|          01/2006|             2006|         2999|     147|     200|           Manual|   Diesel|            6,8 l/100 km|             179 g/km|     238861.0|159 2.4 JTDM 20V ...|\n",
      "+----------+--------------+------+-----------------+-----------------+-------------+--------+--------+-----------------+---------+------------------------+---------------------+-------------+--------------------+\n",
      "only showing top 20 rows\n",
      "\n"
     ]
    }
   ],
   "source": [
    "# Using Not condition\n",
    "df.filter(df['fuel_type']!='Petrol').show()"
   ]
  },
  {
   "cell_type": "code",
   "execution_count": 40,
   "metadata": {
    "colab": {
     "base_uri": "https://localhost:8080/"
    },
    "id": "SmK-7xDdCeIu",
    "outputId": "f2c9a214-5e5f-4d93-ff1b-9872f27b9219"
   },
   "outputs": [
    {
     "name": "stdout",
     "output_type": "stream",
     "text": [
      "root\n",
      " |-- brand: string (nullable = true)\n",
      " |-- model: string (nullable = true)\n",
      " |-- color: string (nullable = true)\n",
      " |-- registration_date: string (nullable = true)\n",
      " |-- registration_year: string (nullable = true)\n",
      " |-- price_in_euro: string (nullable = true)\n",
      " |-- power_kw: string (nullable = true)\n",
      " |-- power_ps: string (nullable = true)\n",
      " |-- transmission_type: string (nullable = true)\n",
      " |-- fuel_type: string (nullable = true)\n",
      " |-- fuel_consumption_l_100km: string (nullable = true)\n",
      " |-- fuel_consumption_g_km: string (nullable = true)\n",
      " |-- mileage_in_km: double (nullable = true)\n",
      " |-- offer_description: string (nullable = true)\n",
      "\n"
     ]
    }
   ],
   "source": [
    "df.printSchema()"
   ]
  },
  {
   "cell_type": "markdown",
   "metadata": {
    "id": "xkEqjXrgELS_"
   },
   "source": [
    "### Using Multiple condition to do filter"
   ]
  },
  {
   "cell_type": "code",
   "execution_count": 41,
   "metadata": {
    "colab": {
     "base_uri": "https://localhost:8080/"
    },
    "id": "MqbQjoovCrmf",
    "outputId": "468dcabf-0f68-4646-dc6d-808147a748fe"
   },
   "outputs": [
    {
     "name": "stdout",
     "output_type": "stream",
     "text": [
      "+-------+-----------+------+-----------------+-----------------+-------------+--------+--------+-----------------+---------+------------------------+---------------------+-------------+--------------------+\n",
      "|  brand|      model| color|registration_date|registration_year|price_in_euro|power_kw|power_ps|transmission_type|fuel_type|fuel_consumption_l_100km|fuel_consumption_g_km|mileage_in_km|   offer_description|\n",
      "+-------+-----------+------+-----------------+-----------------+-------------+--------+--------+-----------------+---------+------------------------+---------------------+-------------+--------------------+\n",
      "|ferrari|Ferrari 599|   red|          04/2011|             2011|      1150000|     493|     670|        Automatic|   Petrol|           17,5 l/100 km|             411 g/km|       3800.0|GTO * German deli...|\n",
      "|ferrari|Ferrari 458|  blue|          07/2015|             2015|      1045800|     445|     605|        Automatic|   Petrol|           13,3 l/100 km|             307 g/km|       2824.0|Speciale Aperta |...|\n",
      "|ferrari|Ferrari F12|yellow|          04/2017|             2017|      1290000|     570|     775|        Automatic|   Petrol|                    null|             - (g/km)|      10800.0|*TDF 1of799*Ferra...|\n",
      "+-------+-----------+------+-----------------+-----------------+-------------+--------+--------+-----------------+---------+------------------------+---------------------+-------------+--------------------+\n",
      "\n"
     ]
    }
   ],
   "source": [
    "# Using AND condition\n",
    "df.filter((df['price_in_euro']>=1000000) & (df['brand']=='ferrari')).show()"
   ]
  },
  {
   "cell_type": "code",
   "execution_count": 42,
   "metadata": {
    "colab": {
     "base_uri": "https://localhost:8080/"
    },
    "id": "439VYdRnD-7K",
    "outputId": "2be5cbd6-36a8-43e2-df3a-3d6a6f1b42b7"
   },
   "outputs": [
    {
     "name": "stdout",
     "output_type": "stream",
     "text": [
      "+-------+---------------+------+-----------------+-----------------+-------------+--------+--------+-----------------+---------+------------------------+---------------------+-------------+--------------------+\n",
      "|  brand|          model| color|registration_date|registration_year|price_in_euro|power_kw|power_ps|transmission_type|fuel_type|fuel_consumption_l_100km|fuel_consumption_g_km|mileage_in_km|   offer_description|\n",
      "+-------+---------------+------+-----------------+-----------------+-------------+--------+--------+-----------------+---------+------------------------+---------------------+-------------+--------------------+\n",
      "|ferrari|Ferrari Mondial|   red|          01/1995|             1995|        59890|     221|     300|   Semi-automatic|   Petrol|                    null|             - (g/km)|      29800.0|3,4T  Coupe Valeo...|\n",
      "|ferrari|   Ferrari F355|   red|          01/1995|             1995|       109900|     280|     381|           Manual|   Petrol|           15,3 l/100 km|             - (g/km)|      32500.0|Spider, Schalter ...|\n",
      "|ferrari|    Ferrari 348|   red|          07/1995|             1995|        89900|     235|     320|           Manual|   Petrol|                    null|             - (g/km)|      54000.0|Spider - Scheckhe...|\n",
      "|ferrari|    Ferrari 456| black|          07/1995|             1995|        72900|     325|     442|           Manual|   Petrol|                    null|             - (g/km)|      88000.0|GT Lückenloses Fe...|\n",
      "|ferrari|    Ferrari 456|  blue|          02/1996|             1996|        69900|     325|     442|           Manual|   Petrol|                    null|             - (g/km)|      57233.0|      GT Pininfarina|\n",
      "|ferrari|   Ferrari F355|yellow|          01/1996|             1996|       149900|     280|     381|           Manual|   Petrol|           10,8 l/100 km|             - (g/km)|      22800.0|              Spider|\n",
      "|ferrari|   Ferrari F355|   red|          09/1996|             1996|       172500|     280|     381|           Manual|   Petrol|                    null|             - (g/km)|      18500.0|Berlinetta /2.7 M...|\n",
      "|ferrari|   Ferrari F355|   red|          05/1996|             1996|       179355|     280|     381|           Manual|   Petrol|            - (l/100 km)|             - (g/km)|      17740.0|                 GTS|\n",
      "|ferrari|    Ferrari 512|   red|          05/1996|             1996|       499000|     324|     441|           Manual|   Petrol|            9,9 l/100 km|             - (g/km)|      30085.0|                   M|\n",
      "|ferrari|   Ferrari F355|   red|          06/1996|             1996|       108500|     280|     381|           Manual|   Petrol|                    null|             - (g/km)|      83000.0|Spider Wertgutach...|\n",
      "|ferrari|   Ferrari F355|   red|          03/1996|             1996|       154900|     280|     381|           Manual|   Petrol|           15,7 l/100 km|             372 g/km|      43600.0|              Spider|\n",
      "|ferrari|    Ferrari 456|  blue|          05/1997|             1997|       125000|     325|     442|           Manual|   Petrol|                    null|             - (g/km)|      21000.0|GT, 1. Hand, Hand...|\n",
      "|ferrari|    Ferrari 550|  grey|          09/1997|             1997|       129500|     357|     485|           Manual|   Petrol|                    null|             - (g/km)|      63417.0|Maranello  Top Or...|\n",
      "|ferrari|    Ferrari 456|  grey|          09/1997|             1997|        89900|     325|     442|        Automatic|   Petrol|                    null|             - (g/km)|      13150.0|GTA | KLIMA | ELE...|\n",
      "|ferrari|   Ferrari F355|   red|          08/1997|             1997|       105000|     280|     381|           Manual|   Petrol|           10,8 l/100 km|             - (g/km)|      87200.0|Berlinetta 6-Gang...|\n",
      "|ferrari|    Ferrari 456|silver|          03/1997|             1997|        69900|     325|     442|        Automatic|   Petrol|                    null|             - (g/km)|      56000.0|                 GTA|\n",
      "|ferrari|    Ferrari 456|  blue|          05/1998|             1998|        90000|     325|     442|        Automatic|   Petrol|           22,2 l/100 km|             520 g/km|       7500.0|                 GTA|\n",
      "|ferrari|    Ferrari 550|  grey|          04/1998|             1998|       139550|     357|     485|           Manual|   Petrol|           22,9 l/100 km|             - (g/km)|      41500.0|Maranello Koffers...|\n",
      "|ferrari|   Ferrari F355|   red|          01/1998|             1998|       168900|     280|     381|           Manual|   Petrol|                    null|             - (g/km)|      38761.0|GTS, nur 38.761 k...|\n",
      "|ferrari|   Ferrari F355|silver|          07/1998|             1998|       169990|     280|     381|           Manual|   Petrol|           10,8 l/100 km|             - (g/km)|      65975.0|   F1 GTS *1 of 529*|\n",
      "+-------+---------------+------+-----------------+-----------------+-------------+--------+--------+-----------------+---------+------------------------+---------------------+-------------+--------------------+\n",
      "only showing top 20 rows\n",
      "\n"
     ]
    }
   ],
   "source": [
    "# Using OR condition\n",
    "df.filter((df['brand']=='ferrari') | (df['brand']=='lamborghini')).show()"
   ]
  },
  {
   "cell_type": "code",
   "execution_count": 43,
   "metadata": {
    "colab": {
     "base_uri": "https://localhost:8080/"
    },
    "id": "CC1crT-nE55E",
    "outputId": "bdee8f32-aed9-406c-8e94-498d35153c02"
   },
   "outputs": [
    {
     "data": {
      "text/plain": [
       "951"
      ]
     },
     "execution_count": 43,
     "metadata": {},
     "output_type": "execute_result"
    }
   ],
   "source": [
    "df.filter((df['brand']=='ferrari') | (df['brand']=='lamborghini')).count()"
   ]
  },
  {
   "cell_type": "markdown",
   "metadata": {
    "id": "v6Ob3qLvHgy1"
   },
   "source": [
    "### Groupby and Aggregate functions"
   ]
  },
  {
   "cell_type": "code",
   "execution_count": 44,
   "metadata": {
    "id": "6qtZbPwYJrhV"
   },
   "outputs": [],
   "source": [
    "# Changing data type of price_in_euro to int for aggrigation action\n",
    "df = df.withColumn('price_in_euro',df['price_in_euro'].cast('int'))"
   ]
  },
  {
   "cell_type": "code",
   "execution_count": 45,
   "metadata": {
    "colab": {
     "base_uri": "https://localhost:8080/"
    },
    "id": "LL7jcsyoKFa-",
    "outputId": "46c7662b-b8ff-4fcd-d204-04320fe9b1ad"
   },
   "outputs": [
    {
     "name": "stdout",
     "output_type": "stream",
     "text": [
      "+----------+-----------------+------+-----------------+-----------------+-------------+--------+--------+-----------------+---------+------------------------+---------------------+-------------+--------------------+\n",
      "|     brand|            model| color|registration_date|registration_year|price_in_euro|power_kw|power_ps|transmission_type|fuel_type|fuel_consumption_l_100km|fuel_consumption_g_km|mileage_in_km|   offer_description|\n",
      "+----------+-----------------+------+-----------------+-----------------+-------------+--------+--------+-----------------+---------+------------------------+---------------------+-------------+--------------------+\n",
      "|alfa-romeo|   Alfa Romeo GTV|   red|          10/1995|             1995|         1300|     148|     201|           Manual|   Petrol|           10,9 l/100 km|             260 g/km|     160500.0|           2.0 V6 TB|\n",
      "|alfa-romeo|   Alfa Romeo 164| black|          02/1995|             1995|        24900|     191|     260|           Manual|   Petrol|                    null|             - (g/km)|     190000.0| Q4 Allrad, 3.2L GTA|\n",
      "|alfa-romeo|Alfa Romeo Spider| black|          02/1995|             1995|         5900|     110|     150|          Unknown|   Petrol|                    null|             - (g/km)|     129000.0|       ALFA ROME 916|\n",
      "|alfa-romeo|Alfa Romeo Spider| black|          07/1995|             1995|         4900|     110|     150|           Manual|   Petrol|            9,5 l/100 km|             225 g/km|     189500.0|2.0 16V Twin Spark L|\n",
      "|alfa-romeo|   Alfa Romeo 164|   red|          11/1996|             1996|        17950|     132|     179|           Manual|   Petrol|            7,2 l/100 km|             - (g/km)|      96127.0|3.0i Super V6, ab...|\n",
      "|alfa-romeo|Alfa Romeo Spider|   red|          04/1996|             1996|         7900|     110|     150|           Manual|   Petrol|            9,5 l/100 km|             225 g/km|      47307.0|  2.0 16V Twin Spark|\n",
      "|alfa-romeo|   Alfa Romeo 145|   red|          12/1996|             1996|         3500|     110|     150|           Manual|   Petrol|            8,8 l/100 km|             210 g/km|     230000.0|        Quadrifoglio|\n",
      "|alfa-romeo|   Alfa Romeo 164| black|          07/1996|             1996|         5500|     132|     179|           Manual|   Petrol|           13,4 l/100 km|             320 g/km|     168000.0|      (3.0) V6 Super|\n",
      "|alfa-romeo|Alfa Romeo Spider| black|          07/1996|             1996|         8990|     141|     192|           Manual|   Petrol|             11 l/100 km|             265 g/km|     168600.0||HU:neu|Klimaanla...|\n",
      "|alfa-romeo|Alfa Romeo Spider| black|          01/1996|             1996|         6976|     110|     150|           Manual|   Petrol|            9,2 l/100 km|             220 g/km|      99000.0|2.0 T.Spark L *Kl...|\n",
      "|alfa-romeo|Alfa Romeo Spider|silver|          02/1996|             1996|         5499|     141|     192|           Manual|   Petrol|           11,1 l/100 km|             265 g/km|     157000.0|            3.0 V6 L|\n",
      "|alfa-romeo|Alfa Romeo Spider|silver|          10/1996|             1996|         8499|     110|     150|           Manual|   Petrol|            9,5 l/100 km|             225 g/km|      15550.0|          2.0 spider|\n",
      "|alfa-romeo|   Alfa Romeo GTV|silver|          04/1996|             1996|         2290|     110|     150|           Manual|   Petrol|            9,5 l/100 km|             - (g/km)|     333500.0|GTV 2.0 Twin Spar...|\n",
      "|alfa-romeo|   Alfa Romeo GTV|  grey|          05/1997|             1997|        15800|     162|     220|           Manual|   Petrol|           11,7 l/100 km|             125 g/km|     177000.0|          3.0 V6 24v|\n",
      "|alfa-romeo|   Alfa Romeo 155|  grey|          06/1997|             1997|         7950|      88|     120|           Manual|   Petrol|            8,4 l/100 km|             - (g/km)|     101726.0|1.6l Twin Spark, ...|\n",
      "|alfa-romeo|   Alfa Romeo GTV|   red|          10/1997|             1997|         1300|     148|     201|           Manual|   Petrol|           10,9 l/100 km|             260 g/km|     178000.0|           2.0 V6 TB|\n",
      "|alfa-romeo|   Alfa Romeo GTV|   red|          03/1997|             1997|         6900|     110|     150|           Manual|   Petrol|            9,2 l/100 km|             225 g/km|     110313.0|   2.0 16V T.Spark L|\n",
      "|alfa-romeo|   Alfa Romeo GTV|   red|          01/1997|             1997|        16900|     162|     220|           Manual|   Petrol|           11,7 l/100 km|             - (g/km)|     174000.0|      GTV 3.0 V6 24V|\n",
      "|alfa-romeo|   Alfa Romeo GTV|   red|          03/1997|             1997|         9980|     148|     201|           Manual|   Petrol|                    null|             - (g/km)|     168791.0|2.0 V6 TB - Leder...|\n",
      "|alfa-romeo|   Alfa Romeo 145|   red|          03/1997|             1997|        11990|      88|     120|           Manual|   Petrol|            8,2 l/100 km|             - (g/km)|     124963.0|Scuola Sportiva/W...|\n",
      "+----------+-----------------+------+-----------------+-----------------+-------------+--------+--------+-----------------+---------+------------------------+---------------------+-------------+--------------------+\n",
      "only showing top 20 rows\n",
      "\n"
     ]
    }
   ],
   "source": [
    "df.show()"
   ]
  },
  {
   "cell_type": "code",
   "execution_count": 46,
   "metadata": {
    "colab": {
     "base_uri": "https://localhost:8080/"
    },
    "id": "xJ074wsaK4Hs",
    "outputId": "ff28508a-e444-4b4d-a33f-9f594665181b"
   },
   "outputs": [
    {
     "name": "stdout",
     "output_type": "stream",
     "text": [
      "root\n",
      " |-- brand: string (nullable = true)\n",
      " |-- model: string (nullable = true)\n",
      " |-- color: string (nullable = true)\n",
      " |-- registration_date: string (nullable = true)\n",
      " |-- registration_year: string (nullable = true)\n",
      " |-- price_in_euro: integer (nullable = true)\n",
      " |-- power_kw: string (nullable = true)\n",
      " |-- power_ps: string (nullable = true)\n",
      " |-- transmission_type: string (nullable = true)\n",
      " |-- fuel_type: string (nullable = true)\n",
      " |-- fuel_consumption_l_100km: string (nullable = true)\n",
      " |-- fuel_consumption_g_km: string (nullable = true)\n",
      " |-- mileage_in_km: double (nullable = true)\n",
      " |-- offer_description: string (nullable = true)\n",
      "\n"
     ]
    }
   ],
   "source": [
    "df.printSchema()"
   ]
  },
  {
   "cell_type": "code",
   "execution_count": 47,
   "metadata": {
    "colab": {
     "base_uri": "https://localhost:8080/"
    },
    "id": "-FEc2PJTE_Ty",
    "outputId": "642e92e9-b3a6-4a7d-de67-4f3e0e00a5b2"
   },
   "outputs": [
    {
     "name": "stdout",
     "output_type": "stream",
     "text": [
      "+------------+------------------+------------------+\n",
      "|       brand|max(price_in_euro)|max(mileage_in_km)|\n",
      "+------------+------------------+------------------+\n",
      "|        audi|           1000000|         2230456.0|\n",
      "|         bmw|           1010101|         2223400.0|\n",
      "|     bentley|            761600|          243363.0|\n",
      "|  alfa-romeo|            289890|          418000.0|\n",
      "|aston-martin|           2289000|          226900.0|\n",
      "|    daihatsu|             15900|          241791.0|\n",
      "|    chrysler|             86990|          135000.0|\n",
      "|     citroen|             93990|          735201.0|\n",
      "|       dodge|            159800|          314500.0|\n",
      "|        ford|            849900|         3800000.0|\n",
      "|    cadillac|            179980|          288779.0|\n",
      "|     ferrari|           1290000|          154000.0|\n",
      "|   chevrolet|            132900|          276500.0|\n",
      "|        fiat|             97500|         2300000.0|\n",
      "|      daewoo|              6600|          318900.0|\n",
      "|       dacia|             34500|          411630.0|\n",
      "|      jaguar|            177900|          390000.0|\n",
      "|        jeep|            214990|          303700.0|\n",
      "|     hyundai|             68840|          730500.0|\n",
      "|         kia|             69950|          500000.0|\n",
      "+------------+------------------+------------------+\n",
      "only showing top 20 rows\n",
      "\n"
     ]
    }
   ],
   "source": [
    "# Groupby ----> with name and find one with highest price in euros\n",
    "df.groupby('brand').max().show() # Here we get list of all brands with maximum price in euros"
   ]
  },
  {
   "cell_type": "code",
   "execution_count": 48,
   "metadata": {
    "colab": {
     "base_uri": "https://localhost:8080/"
    },
    "id": "06Z5vvLQH5US",
    "outputId": "186c0824-31f1-4c90-dde3-012ad7470c0e"
   },
   "outputs": [
    {
     "data": {
      "text/plain": [
       "47"
      ]
     },
     "execution_count": 48,
     "metadata": {},
     "output_type": "execute_result"
    }
   ],
   "source": [
    "df.groupby('brand').max().count()"
   ]
  },
  {
   "cell_type": "code",
   "execution_count": 49,
   "metadata": {
    "colab": {
     "base_uri": "https://localhost:8080/"
    },
    "id": "1L9ArAf4I2mK",
    "outputId": "e5ca0599-bbfb-47a6-8a65-513106051c51"
   },
   "outputs": [
    {
     "name": "stdout",
     "output_type": "stream",
     "text": [
      "+------------+------------------+------------------+\n",
      "|       brand|avg(price_in_euro)|avg(mileage_in_km)|\n",
      "+------------+------------------+------------------+\n",
      "|        audi|28469.840629727685|108488.72845866616|\n",
      "|         bmw|24960.235439713088| 126239.0661954052|\n",
      "|     bentley|188907.56561922366| 41606.40850277264|\n",
      "|  alfa-romeo| 31265.13082811413| 71651.17896935933|\n",
      "|aston-martin|172583.14440433212| 30901.28880866426|\n",
      "|    daihatsu|4034.7487684729062| 122485.3431372549|\n",
      "|    chrysler|           59935.5|        26503.8125|\n",
      "|     citroen|19047.196030384708| 64386.08290409615|\n",
      "|       dodge| 55004.74289985052|50290.979073243645|\n",
      "|        ford|20409.834780292942| 81751.92188914328|\n",
      "|    cadillac| 39653.72611464968| 74715.09554140127|\n",
      "|     ferrari|280949.62372881355|  23999.6593220339|\n",
      "|   chevrolet|40798.780104712045|52468.680628272254|\n",
      "|        fiat|15901.463157894737|50686.232479650585|\n",
      "|      daewoo|1933.0983606557377|  138715.868852459|\n",
      "|       dacia|15117.340760546644| 48060.16886227545|\n",
      "|      jaguar| 45392.55865522174| 47135.51502145923|\n",
      "|        jeep| 36238.93253287593| 40852.36374067699|\n",
      "|     hyundai|  20585.3349076857| 55640.04195303551|\n",
      "|         kia| 22608.36847617385|   50011.663003663|\n",
      "+------------+------------------+------------------+\n",
      "only showing top 20 rows\n",
      "\n"
     ]
    }
   ],
   "source": [
    "# finding mean price of every brand\n",
    "df.groupby('brand').mean().show() # It will do aggrigation only for integer or float or double data type"
   ]
  },
  {
   "cell_type": "code",
   "execution_count": 50,
   "metadata": {
    "colab": {
     "base_uri": "https://localhost:8080/"
    },
    "id": "k907xTSNJXNB",
    "outputId": "9dcd1299-719f-438e-f30f-48b026d41e52"
   },
   "outputs": [
    {
     "name": "stdout",
     "output_type": "stream",
     "text": [
      "+------------+-----+\n",
      "|       brand|count|\n",
      "+------------+-----+\n",
      "|        audi|21161|\n",
      "|         bmw|19810|\n",
      "|     bentley|  541|\n",
      "|  alfa-romeo| 1437|\n",
      "|aston-martin|  277|\n",
      "|    daihatsu|  204|\n",
      "|    chrysler|   32|\n",
      "|     citroen| 4083|\n",
      "|       dodge|  669|\n",
      "|        ford|18790|\n",
      "|    cadillac|  157|\n",
      "|     ferrari|  590|\n",
      "|   chevrolet|  191|\n",
      "|        fiat| 5039|\n",
      "|      daewoo|   61|\n",
      "|       dacia| 3367|\n",
      "|      jaguar| 1398|\n",
      "|        jeep| 1749|\n",
      "|     hyundai| 6989|\n",
      "|         kia| 5734|\n",
      "+------------+-----+\n",
      "only showing top 20 rows\n",
      "\n"
     ]
    }
   ],
   "source": [
    "# Number of cars brand listed for sales\n",
    "df.groupby('brand').count().show()"
   ]
  },
  {
   "cell_type": "code",
   "execution_count": 51,
   "metadata": {
    "colab": {
     "base_uri": "https://localhost:8080/"
    },
    "id": "LLSc0_eCMFtg",
    "outputId": "0262de8d-fbde-4fe0-82f3-d298c555fc73"
   },
   "outputs": [
    {
     "name": "stdout",
     "output_type": "stream",
     "text": [
      "+------------+-----------------+------------------+------------------+\n",
      "|       brand|transmission_type|avg(price_in_euro)|avg(mileage_in_km)|\n",
      "+------------+-----------------+------------------+------------------+\n",
      "|  alfa-romeo|          Unknown| 34712.71428571428| 71527.71428571429|\n",
      "|  alfa-romeo|        Automatic|43736.973154362415| 33708.28443449048|\n",
      "|  alfa-romeo|           Manual| 9631.606870229007|136216.21564885497|\n",
      "|  alfa-romeo|   Semi-automatic|           58839.8|           82182.0|\n",
      "|aston-martin|        Automatic| 182175.6530612245|29068.138775510204|\n",
      "|aston-martin|           Manual| 89365.37931034483| 45756.48275862069|\n",
      "|aston-martin|          Unknown|          258700.0|           28012.5|\n",
      "|aston-martin|   Semi-automatic|           63500.0|           55000.0|\n",
      "|        audi|          Unknown|       21818.03125|      142481.46875|\n",
      "|        audi|   Semi-automatic|21349.166666666668|         179452.75|\n",
      "|        audi|        Automatic| 34292.55378540305|  97875.9786249149|\n",
      "|        audi|           Manual|15161.630400751408| 132408.9586919105|\n",
      "|     bentley|        Automatic|188852.02407407408| 41660.30925925926|\n",
      "|     bentley|   Semi-automatic|          218900.0|           12500.0|\n",
      "|         bmw|          Unknown|          25931.87|         143273.55|\n",
      "|         bmw|   Semi-automatic|21227.708333333332|          162624.5|\n",
      "|         bmw|        Automatic|  30462.2254624105|112145.30858122717|\n",
      "|         bmw|           Manual| 13183.97605746209|155987.45038289725|\n",
      "|    cadillac|           Manual|           12617.5|          143435.0|\n",
      "|    cadillac|          Unknown|           72500.0|            4500.0|\n",
      "+------------+-----------------+------------------+------------------+\n",
      "only showing top 20 rows\n",
      "\n"
     ]
    }
   ],
   "source": [
    "# Group by on multiple condition and orderby by brand name\n",
    "group_brand = df.groupby('brand','transmission_type').mean().orderBy('brand')\n",
    "group_brand.show()"
   ]
  },
  {
   "cell_type": "markdown",
   "metadata": {
    "id": "UCuiff5-RZJF"
   },
   "source": [
    "### Ordering DataFrame as Ascending or Descending order"
   ]
  },
  {
   "cell_type": "code",
   "execution_count": 52,
   "metadata": {
    "colab": {
     "base_uri": "https://localhost:8080/"
    },
    "id": "lx_EUAOsQsjG",
    "outputId": "90eb73b1-99a7-4006-f11b-aa9860d404d6"
   },
   "outputs": [
    {
     "name": "stdout",
     "output_type": "stream",
     "text": [
      "+------------+-----------------+------------------+------------------+\n",
      "|       brand|transmission_type|avg(price_in_euro)|avg(mileage_in_km)|\n",
      "+------------+-----------------+------------------+------------------+\n",
      "|  alfa-romeo|          Unknown| 34712.71428571428| 71527.71428571429|\n",
      "|  alfa-romeo|        Automatic|43736.973154362415| 33708.28443449048|\n",
      "|  alfa-romeo|           Manual| 9631.606870229007|136216.21564885497|\n",
      "|  alfa-romeo|   Semi-automatic|           58839.8|           82182.0|\n",
      "|aston-martin|        Automatic| 182175.6530612245|29068.138775510204|\n",
      "|aston-martin|           Manual| 89365.37931034483| 45756.48275862069|\n",
      "|aston-martin|          Unknown|          258700.0|           28012.5|\n",
      "|aston-martin|   Semi-automatic|           63500.0|           55000.0|\n",
      "|        audi|          Unknown|       21818.03125|      142481.46875|\n",
      "|        audi|   Semi-automatic|21349.166666666668|         179452.75|\n",
      "|        audi|        Automatic| 34292.55378540305|  97875.9786249149|\n",
      "|        audi|           Manual|15161.630400751408| 132408.9586919105|\n",
      "|     bentley|        Automatic|188852.02407407408| 41660.30925925926|\n",
      "|     bentley|   Semi-automatic|          218900.0|           12500.0|\n",
      "|         bmw|          Unknown|          25931.87|         143273.55|\n",
      "|         bmw|   Semi-automatic|21227.708333333332|          162624.5|\n",
      "|         bmw|        Automatic|  30462.2254624105|112145.30858122717|\n",
      "|         bmw|           Manual| 13183.97605746209|155987.45038289725|\n",
      "|    cadillac|           Manual|           12617.5|          143435.0|\n",
      "|    cadillac|          Unknown|           72500.0|            4500.0|\n",
      "+------------+-----------------+------------------+------------------+\n",
      "only showing top 20 rows\n",
      "\n"
     ]
    }
   ],
   "source": [
    "# Arranging dataframe on ascending order of brand name\n",
    "group_brand.orderBy(group_brand['brand']).show()"
   ]
  },
  {
   "cell_type": "code",
   "execution_count": 53,
   "metadata": {
    "colab": {
     "base_uri": "https://localhost:8080/"
    },
    "id": "QTFRc86ENi4R",
    "outputId": "f74c7916-9ed6-4189-f032-97c713d20ad7"
   },
   "outputs": [
    {
     "name": "stdout",
     "output_type": "stream",
     "text": [
      "+----------+-----------------+------------------+------------------+\n",
      "|     brand|transmission_type|avg(price_in_euro)|avg(mileage_in_km)|\n",
      "+----------+-----------------+------------------+------------------+\n",
      "|     volvo|        Automatic| 37930.32765255635| 71751.76971695521|\n",
      "|     volvo|          Unknown|           31442.0|106488.63888888889|\n",
      "|     volvo|           Manual|18405.928278688523|127628.38729508196|\n",
      "|     volvo|   Semi-automatic|           10000.0|          190000.0|\n",
      "|volkswagen|   Semi-automatic|           16903.2|120938.13333333333|\n",
      "|volkswagen|        Automatic| 26996.37222222222| 84296.25304768088|\n",
      "|volkswagen|          Unknown|15195.440298507463|151078.37313432837|\n",
      "|volkswagen|           Manual| 13011.97517398982| 130676.1141803832|\n",
      "|    toyota|        Automatic|  29579.3212275286|29684.651057674924|\n",
      "|    toyota|          Unknown|           23143.0| 92514.91666666667|\n",
      "|    toyota|   Semi-automatic|            6149.5|           51000.0|\n",
      "|    toyota|           Manual|15596.173896783845| 71654.25934230194|\n",
      "| ssangyong|           Manual|17402.731092436974| 55719.84033613445|\n",
      "| ssangyong|          Unknown|           10949.5|          184470.0|\n",
      "| ssangyong|        Automatic|29627.972602739726|39525.552511415524|\n",
      "| ssangyong|   Semi-automatic|            6545.0|          197004.5|\n",
      "|     smart|           Manual|10086.487632508833| 71933.41696113074|\n",
      "|     smart|        Automatic|13390.388714733543| 52109.91379310345|\n",
      "|     smart|   Semi-automatic| 5289.311688311688|109278.16883116883|\n",
      "|     smart|          Unknown|15362.857142857143|41577.142857142855|\n",
      "+----------+-----------------+------------------+------------------+\n",
      "only showing top 20 rows\n",
      "\n"
     ]
    }
   ],
   "source": [
    "# Arranging dataframe on descending order of brand name\n",
    "group_brand.orderBy(group_brand['brand'].desc()).show()"
   ]
  },
  {
   "cell_type": "markdown",
   "metadata": {
    "id": "2WcrNuAxSBq1"
   },
   "source": [
    "### Using Aggrigate function to entire dataframe"
   ]
  },
  {
   "cell_type": "code",
   "execution_count": 54,
   "metadata": {
    "colab": {
     "base_uri": "https://localhost:8080/"
    },
    "id": "eYFi6etdP6dK",
    "outputId": "db23aad1-6117-4ddc-8a0b-5ceac751af29"
   },
   "outputs": [
    {
     "name": "stdout",
     "output_type": "stream",
     "text": [
      "+----------+-----------------+------+-----------------+-----------------+-------------+--------+--------+-----------------+---------+------------------------+---------------------+-------------+--------------------+\n",
      "|     brand|            model| color|registration_date|registration_year|price_in_euro|power_kw|power_ps|transmission_type|fuel_type|fuel_consumption_l_100km|fuel_consumption_g_km|mileage_in_km|   offer_description|\n",
      "+----------+-----------------+------+-----------------+-----------------+-------------+--------+--------+-----------------+---------+------------------------+---------------------+-------------+--------------------+\n",
      "|alfa-romeo|   Alfa Romeo GTV|   red|          10/1995|             1995|         1300|     148|     201|           Manual|   Petrol|           10,9 l/100 km|             260 g/km|     160500.0|           2.0 V6 TB|\n",
      "|alfa-romeo|   Alfa Romeo 164| black|          02/1995|             1995|        24900|     191|     260|           Manual|   Petrol|                    null|             - (g/km)|     190000.0| Q4 Allrad, 3.2L GTA|\n",
      "|alfa-romeo|Alfa Romeo Spider| black|          02/1995|             1995|         5900|     110|     150|          Unknown|   Petrol|                    null|             - (g/km)|     129000.0|       ALFA ROME 916|\n",
      "|alfa-romeo|Alfa Romeo Spider| black|          07/1995|             1995|         4900|     110|     150|           Manual|   Petrol|            9,5 l/100 km|             225 g/km|     189500.0|2.0 16V Twin Spark L|\n",
      "|alfa-romeo|   Alfa Romeo 164|   red|          11/1996|             1996|        17950|     132|     179|           Manual|   Petrol|            7,2 l/100 km|             - (g/km)|      96127.0|3.0i Super V6, ab...|\n",
      "|alfa-romeo|Alfa Romeo Spider|   red|          04/1996|             1996|         7900|     110|     150|           Manual|   Petrol|            9,5 l/100 km|             225 g/km|      47307.0|  2.0 16V Twin Spark|\n",
      "|alfa-romeo|   Alfa Romeo 145|   red|          12/1996|             1996|         3500|     110|     150|           Manual|   Petrol|            8,8 l/100 km|             210 g/km|     230000.0|        Quadrifoglio|\n",
      "|alfa-romeo|   Alfa Romeo 164| black|          07/1996|             1996|         5500|     132|     179|           Manual|   Petrol|           13,4 l/100 km|             320 g/km|     168000.0|      (3.0) V6 Super|\n",
      "|alfa-romeo|Alfa Romeo Spider| black|          07/1996|             1996|         8990|     141|     192|           Manual|   Petrol|             11 l/100 km|             265 g/km|     168600.0||HU:neu|Klimaanla...|\n",
      "|alfa-romeo|Alfa Romeo Spider| black|          01/1996|             1996|         6976|     110|     150|           Manual|   Petrol|            9,2 l/100 km|             220 g/km|      99000.0|2.0 T.Spark L *Kl...|\n",
      "|alfa-romeo|Alfa Romeo Spider|silver|          02/1996|             1996|         5499|     141|     192|           Manual|   Petrol|           11,1 l/100 km|             265 g/km|     157000.0|            3.0 V6 L|\n",
      "|alfa-romeo|Alfa Romeo Spider|silver|          10/1996|             1996|         8499|     110|     150|           Manual|   Petrol|            9,5 l/100 km|             225 g/km|      15550.0|          2.0 spider|\n",
      "|alfa-romeo|   Alfa Romeo GTV|silver|          04/1996|             1996|         2290|     110|     150|           Manual|   Petrol|            9,5 l/100 km|             - (g/km)|     333500.0|GTV 2.0 Twin Spar...|\n",
      "|alfa-romeo|   Alfa Romeo GTV|  grey|          05/1997|             1997|        15800|     162|     220|           Manual|   Petrol|           11,7 l/100 km|             125 g/km|     177000.0|          3.0 V6 24v|\n",
      "|alfa-romeo|   Alfa Romeo 155|  grey|          06/1997|             1997|         7950|      88|     120|           Manual|   Petrol|            8,4 l/100 km|             - (g/km)|     101726.0|1.6l Twin Spark, ...|\n",
      "|alfa-romeo|   Alfa Romeo GTV|   red|          10/1997|             1997|         1300|     148|     201|           Manual|   Petrol|           10,9 l/100 km|             260 g/km|     178000.0|           2.0 V6 TB|\n",
      "|alfa-romeo|   Alfa Romeo GTV|   red|          03/1997|             1997|         6900|     110|     150|           Manual|   Petrol|            9,2 l/100 km|             225 g/km|     110313.0|   2.0 16V T.Spark L|\n",
      "|alfa-romeo|   Alfa Romeo GTV|   red|          01/1997|             1997|        16900|     162|     220|           Manual|   Petrol|           11,7 l/100 km|             - (g/km)|     174000.0|      GTV 3.0 V6 24V|\n",
      "|alfa-romeo|   Alfa Romeo GTV|   red|          03/1997|             1997|         9980|     148|     201|           Manual|   Petrol|                    null|             - (g/km)|     168791.0|2.0 V6 TB - Leder...|\n",
      "|alfa-romeo|   Alfa Romeo 145|   red|          03/1997|             1997|        11990|      88|     120|           Manual|   Petrol|            8,2 l/100 km|             - (g/km)|     124963.0|Scuola Sportiva/W...|\n",
      "+----------+-----------------+------+-----------------+-----------------+-------------+--------+--------+-----------------+---------+------------------------+---------------------+-------------+--------------------+\n",
      "only showing top 20 rows\n",
      "\n"
     ]
    }
   ],
   "source": [
    "df.show()"
   ]
  },
  {
   "cell_type": "code",
   "execution_count": 55,
   "metadata": {
    "colab": {
     "base_uri": "https://localhost:8080/"
    },
    "id": "6Xevb7vxSG81",
    "outputId": "a9f14cdc-7246-456c-9abc-74c7ffa277df"
   },
   "outputs": [
    {
     "name": "stdout",
     "output_type": "stream",
     "text": [
      "+------------------+\n",
      "|avg(price_in_euro)|\n",
      "+------------------+\n",
      "| 26137.53000239158|\n",
      "+------------------+\n",
      "\n"
     ]
    }
   ],
   "source": [
    "# We want to find mean price_in_euro for our entire dataset\n",
    "df.agg({'price_in_euro':'mean'}).show()"
   ]
  },
  {
   "cell_type": "code",
   "execution_count": 56,
   "metadata": {
    "colab": {
     "base_uri": "https://localhost:8080/"
    },
    "id": "Vtr4FYGcSa8p",
    "outputId": "da94e21b-3c16-4fa6-e6e3-c561480e3477"
   },
   "outputs": [
    {
     "name": "stdout",
     "output_type": "stream",
     "text": [
      "+------------------+\n",
      "|max(price_in_euro)|\n",
      "+------------------+\n",
      "|           5890500|\n",
      "+------------------+\n",
      "\n",
      "+------------------+\n",
      "|min(price_in_euro)|\n",
      "+------------------+\n",
      "|               120|\n",
      "+------------------+\n",
      "\n"
     ]
    }
   ],
   "source": [
    "# We want to find max price_in_euro and min price_in_euro for our entire dataset\n",
    "df.agg({'price_in_euro':'max'}).show()\n",
    "df.agg({'price_in_euro':'min'}).show()"
   ]
  },
  {
   "cell_type": "code",
   "execution_count": null,
   "metadata": {
    "id": "w4sbsGUPT7td"
   },
   "outputs": [],
   "source": []
  }
 ],
 "metadata": {
  "accelerator": "GPU",
  "colab": {
   "gpuType": "T4",
   "provenance": []
  },
  "kernelspec": {
   "display_name": "Python 3 (ipykernel)",
   "language": "python",
   "name": "python3"
  },
  "language_info": {
   "codemirror_mode": {
    "name": "ipython",
    "version": 3
   },
   "file_extension": ".py",
   "mimetype": "text/x-python",
   "name": "python",
   "nbconvert_exporter": "python",
   "pygments_lexer": "ipython3",
   "version": "3.11.7"
  }
 },
 "nbformat": 4,
 "nbformat_minor": 4
}
